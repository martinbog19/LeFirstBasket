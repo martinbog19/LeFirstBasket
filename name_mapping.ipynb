{
 "cells": [
  {
   "cell_type": "code",
   "execution_count": 2,
   "metadata": {},
   "outputs": [],
   "source": [
    "import pandas as pd\n",
    "import json\n",
    "from helpers.utils import normalize_name"
   ]
  },
  {
   "cell_type": "code",
   "execution_count": 11,
   "metadata": {},
   "outputs": [],
   "source": [
    "with open('utils/name_map_odds.json', 'r') as f:\n",
    "    name_map = json.load(f)"
   ]
  },
  {
   "cell_type": "code",
   "execution_count": 12,
   "metadata": {},
   "outputs": [],
   "source": [
    "odds = pd.read_csv('data/odds_first_basket.csv')[['name']].drop_duplicates().sort_values('name').reset_index(drop = True)\n",
    "metadata = pd.read_csv('data/player_metadata.csv')\n",
    "odds['name_norm'] = odds['name'].apply(normalize_name)\n",
    "assert odds['name_norm'].value_counts().max() == 1, 'Normalized name duplicate in odds'\n",
    "odds['player_id'] = odds['name'].map(name_map)\n",
    "assert odds['player_id'].value_counts().max() == 1, 'Dupplicate player_id on odds'\n",
    "# Subset of players needing to be mapped\n",
    "odds_ = odds.copy()[odds['player_id'].isna()]"
   ]
  },
  {
   "cell_type": "code",
   "execution_count": 14,
   "metadata": {},
   "outputs": [],
   "source": [
    "merged = pd.merge(\n",
    "    odds_[['name', 'name_norm']],\n",
    "    metadata[['name_norm', 'player_id']],\n",
    "    on = 'name_norm',\n",
    "    how = 'left'\n",
    "    )\n",
    "\n",
    "merged_check = merged.copy()[merged['player_id'].notna()]\n",
    "assert odds['name_norm'].value_counts().max() == 1, 'Normalized name duplicate in merged_check'\n",
    "assert odds['player_id'].value_counts().max() == 1, 'Duplicated player_id in merged_check'\n",
    "\n",
    "name_map_add = dict(zip(merged_check['name'], merged_check['player_id']))"
   ]
  },
  {
   "cell_type": "code",
   "execution_count": null,
   "metadata": {},
   "outputs": [],
   "source": [
    "with open('utils/name_map_odds.json', 'w') as f:\n",
    "    json.dump(name_map | name_map_add, f, indent = 4)"
   ]
  },
  {
   "cell_type": "code",
   "execution_count": 18,
   "metadata": {},
   "outputs": [],
   "source": [
    "merged_need = merged.copy()[merged['player_id'].isna()]"
   ]
  },
  {
   "cell_type": "code",
   "execution_count": 19,
   "metadata": {},
   "outputs": [
    {
     "data": {
      "text/html": [
       "<div>\n",
       "<style scoped>\n",
       "    .dataframe tbody tr th:only-of-type {\n",
       "        vertical-align: middle;\n",
       "    }\n",
       "\n",
       "    .dataframe tbody tr th {\n",
       "        vertical-align: top;\n",
       "    }\n",
       "\n",
       "    .dataframe thead th {\n",
       "        text-align: right;\n",
       "    }\n",
       "</style>\n",
       "<table border=\"1\" class=\"dataframe\">\n",
       "  <thead>\n",
       "    <tr style=\"text-align: right;\">\n",
       "      <th></th>\n",
       "      <th>name</th>\n",
       "      <th>name_norm</th>\n",
       "      <th>player_id</th>\n",
       "    </tr>\n",
       "  </thead>\n",
       "  <tbody>\n",
       "  </tbody>\n",
       "</table>\n",
       "</div>"
      ],
      "text/plain": [
       "Empty DataFrame\n",
       "Columns: [name, name_norm, player_id]\n",
       "Index: []"
      ]
     },
     "execution_count": 19,
     "metadata": {},
     "output_type": "execute_result"
    }
   ],
   "source": [
    "merged_need"
   ]
  },
  {
   "cell_type": "code",
   "execution_count": 20,
   "metadata": {},
   "outputs": [],
   "source": [
    "players_need_id = merged_need['name'].to_list()"
   ]
  },
  {
   "cell_type": "code",
   "execution_count": 21,
   "metadata": {},
   "outputs": [
    {
     "data": {
      "text/plain": [
       "[]"
      ]
     },
     "execution_count": 21,
     "metadata": {},
     "output_type": "execute_result"
    }
   ],
   "source": [
    "players_need_id"
   ]
  },
  {
   "cell_type": "code",
   "execution_count": null,
   "metadata": {},
   "outputs": [],
   "source": []
  }
 ],
 "metadata": {
  "kernelspec": {
   "display_name": "penv",
   "language": "python",
   "name": "python3"
  },
  "language_info": {
   "codemirror_mode": {
    "name": "ipython",
    "version": 3
   },
   "file_extension": ".py",
   "mimetype": "text/x-python",
   "name": "python",
   "nbconvert_exporter": "python",
   "pygments_lexer": "ipython3",
   "version": "3.9.20"
  }
 },
 "nbformat": 4,
 "nbformat_minor": 2
}
