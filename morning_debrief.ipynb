{
 "cells": [
  {
   "cell_type": "code",
   "execution_count": 16,
   "metadata": {},
   "outputs": [],
   "source": [
    "import pandas as pd\n",
    "import requests\n",
    "from bs4 import BeautifulSoup\n",
    "import warnings\n",
    "import calendar\n",
    "warnings.simplefilter(action = 'ignore', category = FutureWarning)\n",
    "from time import sleep"
   ]
  },
  {
   "cell_type": "code",
   "execution_count": 17,
   "metadata": {},
   "outputs": [],
   "source": [
    "from helpers.scrape import get_first_basket\n",
    "from helpers.utils import getId\n",
    "\n",
    "\n",
    "def get_monthly_games(month_url) :\n",
    "\n",
    "    url = f'https://www.basketball-reference.com/{month_url}'\n",
    "    page = requests.get(url)\n",
    "    soup = BeautifulSoup(page.content, 'lxml')\n",
    "    table = soup.find('table')\n",
    "    while table.find_all('tr', class_ = 'thead') :\n",
    "        table.find('tr', class_ = 'thead').decompose()\n",
    "    games = pd.read_html(str(table))[0].rename(columns = {'Start (ET)': 'Time'})\n",
    "    games['Date'] = pd.to_datetime(games['Date'])\n",
    "    games['Home'] = [x['href'].split('/')[2] for x in table.find_all('a', href = True) if 'teams' in x['href']][1::2]\n",
    "    games['Away'] = [x['href'].split('/')[2] for x in table.find_all('a', href = True) if 'teams' in x['href']][0::2]\n",
    "    games['game_id'] = [getId(x) for x in table.find_all('a', href = True) if 'boxscores' in x['href']][1::2]\n",
    "\n",
    "    return games[['game_id', 'Date', 'Time', 'Home', 'Away']]"
   ]
  },
  {
   "cell_type": "code",
   "execution_count": 18,
   "metadata": {},
   "outputs": [
    {
     "name": "stdout",
     "output_type": "stream",
     "text": [
      "[1%...] season :  2017-2018, month :  october (201710170CLE)\n",
      "[2%...] season :  2017-2018, month :  october (201710170GSW)\n",
      "[3%...] season :  2017-2018, month :  october (201710180DET)\n",
      "[4%...] season :  2017-2018, month :  october (201710180IND)\n",
      "[5%...] season :  2017-2018, month :  october (201710180ORL)\n",
      "[6%...] season :  2017-2018, month :  october (201710180WAS)\n",
      "[7%...] season :  2017-2018, month :  october (201710180BOS)\n",
      "[8%...] season :  2017-2018, month :  october (201710180MEM)\n",
      "[9%...] season :  2017-2018, month :  october (201710180DAL)\n",
      "[10%...] season :  2017-2018, month :  october (201710180UTA)\n",
      "[11%...] season :  2017-2018, month :  october (201710180SAS)\n",
      "[12%...] season :  2017-2018, month :  october (201710180PHO)\n",
      "[12%...] season :  2017-2018, month :  october (201710180SAC)\n",
      "[13%...] season :  2017-2018, month :  october (201710190TOR)\n",
      "[14%...] season :  2017-2018, month :  october (201710190OKC)\n",
      "[15%...] season :  2017-2018, month :  october (201710190LAL)\n",
      "[16%...] season :  2017-2018, month :  october (201710200CHO)\n",
      "[17%...] season :  2017-2018, month :  october (201710200IND)\n",
      "[18%...] season :  2017-2018, month :  october (201710200MIL)\n",
      "[19%...] season :  2017-2018, month :  october (201710200PHI)\n",
      "[20%...] season :  2017-2018, month :  october (201710200WAS)\n",
      "[21%...] season :  2017-2018, month :  october (201710200BRK)\n",
      "[22%...] season :  2017-2018, month :  october (201710200MIN)\n",
      "[23%...] season :  2017-2018, month :  october (201710200DAL)\n",
      "[24%...] season :  2017-2018, month :  october (201710200NOP)\n",
      "[25%...] season :  2017-2018, month :  october (201710200PHO)\n",
      "[26%...] season :  2017-2018, month :  october (201710210TOR)\n",
      "[27%...] season :  2017-2018, month :  october (201710210CHI)\n",
      "[28%...] season :  2017-2018, month :  october (201710210CLE)\n",
      "[29%...] season :  2017-2018, month :  october (201710210HOU)\n",
      "[30%...] season :  2017-2018, month :  october (201710210MEM)\n",
      "[31%...] season :  2017-2018, month :  october (201710210MIA)\n",
      "[32%...] season :  2017-2018, month :  october (201710210NYK)\n",
      "[33%...] season :  2017-2018, month :  october (201710210MIL)\n",
      "[34%...] season :  2017-2018, month :  october (201710210DEN)\n",
      "[35%...] season :  2017-2018, month :  october (201710210UTA)\n",
      "[36%...] season :  2017-2018, month :  october (201710210LAC)\n",
      "[37%...] season :  2017-2018, month :  october (201710220BRK)\n",
      "[38%...] season :  2017-2018, month :  october (201710220OKC)\n",
      "[38%...] season :  2017-2018, month :  october (201710220LAL)\n"
     ]
    },
    {
     "ename": "ValueError",
     "evalue": "not enough values to unpack (expected 3, got 2)",
     "output_type": "error",
     "traceback": [
      "\u001b[0;31m---------------------------------------------------------------------------\u001b[0m",
      "\u001b[0;31mValueError\u001b[0m                                Traceback (most recent call last)",
      "Cell \u001b[0;32mIn[18], line 23\u001b[0m\n\u001b[1;32m     21\u001b[0m     \u001b[38;5;28mprint\u001b[39m(\u001b[38;5;124mf\u001b[39m\u001b[38;5;124m'\u001b[39m\u001b[38;5;124m[\u001b[39m\u001b[38;5;132;01m{\u001b[39;00m\u001b[38;5;28mround\u001b[39m(\u001b[38;5;241m100\u001b[39m\u001b[38;5;241m*\u001b[39m(i\u001b[38;5;241m+\u001b[39m\u001b[38;5;241m1\u001b[39m)\u001b[38;5;241m/\u001b[39m\u001b[38;5;28mlen\u001b[39m(games_monthly))\u001b[38;5;132;01m}\u001b[39;00m\u001b[38;5;124m%...] season :  \u001b[39m\u001b[38;5;132;01m{\u001b[39;00mseason\u001b[38;5;241m-\u001b[39m\u001b[38;5;241m1\u001b[39m\u001b[38;5;132;01m}\u001b[39;00m\u001b[38;5;124m-\u001b[39m\u001b[38;5;132;01m{\u001b[39;00mseason\u001b[38;5;132;01m}\u001b[39;00m\u001b[38;5;124m, month :  \u001b[39m\u001b[38;5;132;01m{\u001b[39;00mmonth_url\u001b[38;5;241m.\u001b[39msplit(\u001b[38;5;124m\"\u001b[39m\u001b[38;5;124m-\u001b[39m\u001b[38;5;124m\"\u001b[39m)[\u001b[38;5;241m-\u001b[39m\u001b[38;5;241m1\u001b[39m]\u001b[38;5;241m.\u001b[39msplit(\u001b[38;5;124m\"\u001b[39m\u001b[38;5;124m.\u001b[39m\u001b[38;5;124m\"\u001b[39m)[\u001b[38;5;241m0\u001b[39m]\u001b[38;5;132;01m}\u001b[39;00m\u001b[38;5;124m (\u001b[39m\u001b[38;5;132;01m{\u001b[39;00mgameId\u001b[38;5;132;01m}\u001b[39;00m\u001b[38;5;124m)\u001b[39m\u001b[38;5;124m'\u001b[39m)\n\u001b[1;32m     22\u001b[0m     sleep(\u001b[38;5;241m5\u001b[39m)\n\u001b[0;32m---> 23\u001b[0m     first_basket_info\u001b[38;5;241m.\u001b[39mappend(\u001b[43mget_first_basket\u001b[49m\u001b[43m(\u001b[49m\u001b[43mgameId\u001b[49m\u001b[43m)\u001b[49m)\n\u001b[1;32m     26\u001b[0m first_basket_df \u001b[38;5;241m=\u001b[39m pd\u001b[38;5;241m.\u001b[39mconcat(first_basket_info)\n\u001b[1;32m     27\u001b[0m first_basket_df \u001b[38;5;241m=\u001b[39m games_monthly\u001b[38;5;241m.\u001b[39mmerge(first_basket_df, on \u001b[38;5;241m=\u001b[39m [\u001b[38;5;124m'\u001b[39m\u001b[38;5;124mgame_id\u001b[39m\u001b[38;5;124m'\u001b[39m, \u001b[38;5;124m'\u001b[39m\u001b[38;5;124mHome\u001b[39m\u001b[38;5;124m'\u001b[39m, \u001b[38;5;124m'\u001b[39m\u001b[38;5;124mAway\u001b[39m\u001b[38;5;124m'\u001b[39m], how \u001b[38;5;241m=\u001b[39m \u001b[38;5;124m'\u001b[39m\u001b[38;5;124minner\u001b[39m\u001b[38;5;124m'\u001b[39m)\n",
      "File \u001b[0;32m~/Desktop/LeFirstBasket/helpers/scrape.py:139\u001b[0m, in \u001b[0;36mget_first_basket\u001b[0;34m(gameId)\u001b[0m\n\u001b[1;32m    137\u001b[0m \u001b[38;5;66;03m# Store jump ball information\u001b[39;00m\n\u001b[1;32m    138\u001b[0m \u001b[38;5;28;01mif\u001b[39;00m jumpball_exists \u001b[38;5;129;01mand\u001b[39;00m rows[jumpball_idx]\u001b[38;5;241m.\u001b[39mfind(\u001b[38;5;124m'\u001b[39m\u001b[38;5;124ma\u001b[39m\u001b[38;5;124m'\u001b[39m, href \u001b[38;5;241m=\u001b[39m \u001b[38;5;28;01mTrue\u001b[39;00m) :\n\u001b[0;32m--> 139\u001b[0m     jb_away, jb_home, jb_poss \u001b[38;5;241m=\u001b[39m [getId(x) \u001b[38;5;28;01mfor\u001b[39;00m x \u001b[38;5;129;01min\u001b[39;00m rows[jumpball_idx]\u001b[38;5;241m.\u001b[39mfind_all(\u001b[38;5;124m'\u001b[39m\u001b[38;5;124ma\u001b[39m\u001b[38;5;124m'\u001b[39m, href \u001b[38;5;241m=\u001b[39m \u001b[38;5;28;01mTrue\u001b[39;00m)]\n\u001b[1;32m    140\u001b[0m     \u001b[38;5;28;01mif\u001b[39;00m jb_poss \u001b[38;5;129;01min\u001b[39;00m starting_lineup_home :\n\u001b[1;32m    141\u001b[0m         jb_poss_tm \u001b[38;5;241m=\u001b[39m home\n",
      "\u001b[0;31mValueError\u001b[0m: not enough values to unpack (expected 3, got 2)"
     ]
    }
   ],
   "source": [
    "months = list(calendar.month_name)[1:]\n",
    "seasons = [2018]\n",
    "\n",
    "for season in seasons :\n",
    "    url = f'https://www.basketball-reference.com/leagues/NBA_{season}_games.html'\n",
    "    page = requests.get(url)\n",
    "    if page.status_code == 429 :\n",
    "        raise ValueError('Rate limited...')\n",
    "    soup = BeautifulSoup(page.content, 'lxml')\n",
    "    month_urls = [x['href'] for x in soup.find_all('a', href = True) if 'games' in x['href'] \n",
    "                    and any(m.lower() in x['href'] for m in months)]\n",
    "\n",
    "    for m, month_url in enumerate(month_urls) :\n",
    "\n",
    "        games_monthly = get_monthly_games(month_url)\n",
    "        games_monthly['season'] = season\n",
    "\n",
    "        first_basket_info = []\n",
    "        for i, gameId in enumerate(games_monthly['game_id'])  :\n",
    "\n",
    "            print(f'[{round(100*(i+1)/len(games_monthly))}%...] season :  {season-1}-{season}, month :  {month_url.split(\"-\")[-1].split(\".\")[0]} ({gameId})')\n",
    "            sleep(5)\n",
    "            first_basket_info.append(get_first_basket(gameId))\n",
    "\n",
    "\n",
    "        first_basket_df = pd.concat(first_basket_info)\n",
    "        first_basket_df = games_monthly.merge(first_basket_df, on = ['game_id', 'Home', 'Away'], how = 'inner')\n",
    "        if m == 0 :\n",
    "            first_basket_df.to_csv(f'data/first_basket_{season}.csv', index = False)\n",
    "        else :\n",
    "            first_basket_df.to_csv(f'data/first_basket_{season}.csv', mode = 'a', header = False, index = False)"
   ]
  },
  {
   "cell_type": "code",
   "execution_count": 19,
   "metadata": {},
   "outputs": [
    {
     "data": {
      "text/plain": [
       "'201710220LAL'"
      ]
     },
     "execution_count": 19,
     "metadata": {},
     "output_type": "execute_result"
    }
   ],
   "source": [
    "gameId"
   ]
  },
  {
   "cell_type": "code",
   "execution_count": null,
   "metadata": {},
   "outputs": [],
   "source": []
  }
 ],
 "metadata": {
  "kernelspec": {
   "display_name": "penv",
   "language": "python",
   "name": "python3"
  },
  "language_info": {
   "codemirror_mode": {
    "name": "ipython",
    "version": 3
   },
   "file_extension": ".py",
   "mimetype": "text/x-python",
   "name": "python",
   "nbconvert_exporter": "python",
   "pygments_lexer": "ipython3",
   "version": "3.9.20"
  }
 },
 "nbformat": 4,
 "nbformat_minor": 2
}
