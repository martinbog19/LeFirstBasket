{
 "cells": [
  {
   "cell_type": "code",
   "execution_count": 1,
   "metadata": {},
   "outputs": [],
   "source": [
    "import pandas as pd"
   ]
  },
  {
   "cell_type": "code",
   "execution_count": 2,
   "metadata": {},
   "outputs": [],
   "source": [
    "api_key = 'a7bfde5bb651ac64e61f99c67631ef47'"
   ]
  },
  {
   "cell_type": "code",
   "execution_count": 3,
   "metadata": {},
   "outputs": [],
   "source": [
    "import json\n",
    "import requests\n",
    "\n",
    "# First get a list of in-season sports\n",
    "sports_response = requests.get('https://api.the-odds-api.com/v3/sports', params={\n",
    "    'api_key': api_key\n",
    "})"
   ]
  },
  {
   "cell_type": "code",
   "execution_count": 9,
   "metadata": {},
   "outputs": [],
   "source": [
    "\n",
    "sports_json = json.loads(sports_response.text)"
   ]
  },
  {
   "cell_type": "code",
   "execution_count": 10,
   "metadata": {},
   "outputs": [
    {
     "name": "stdout",
     "output_type": "stream",
     "text": [
      "\n",
      "Successfully got 58 sports Here's the first sport:\n",
      "{'key': 'americanfootball_cfl', 'active': True, 'group': 'American Football', 'details': 'Canadian Football League', 'title': 'CFL', 'has_outrights': False}\n"
     ]
    }
   ],
   "source": [
    "\n",
    "if not sports_json['success']:\n",
    "    print(\n",
    "        'There was a problem with the sports request:',\n",
    "        sports_json['msg']\n",
    "    )\n",
    "\n",
    "\n",
    "else:\n",
    "    print()\n",
    "    print(\n",
    "        'Successfully got {} sports'.format(len(sports_json['data'])),\n",
    "        'Here\\'s the first sport:'\n",
    "    )\n",
    "    print(sports_json['data'][0])"
   ]
  },
  {
   "cell_type": "code",
   "execution_count": null,
   "metadata": {},
   "outputs": [],
   "source": [
    "# To get odds for a sepcific sport, use the sport key from the last request\n",
    "#   or set sport to \"upcoming\" to see live and upcoming across all sports\n",
    "sport_key = 'upcoming'\n",
    "\n",
    "odds_response = requests.get('https://api.the-odds-api.com/v3/odds', params={\n",
    "    'api_key': api_key,\n",
    "    'sport': sport_key,\n",
    "    'region': 'uk', # uk | us | eu | au\n",
    "    'mkt': 'h2h' # h2h | spreads | totals\n",
    "})\n",
    "\n",
    "odds_json = json.loads(odds_response.text)\n",
    "if not odds_json['success']:\n",
    "    print(\n",
    "        'There was a problem with the odds request:',\n",
    "        odds_json['msg']\n",
    "    )\n",
    "\n",
    "else:\n",
    "    # odds_json['data'] contains a list of live and \n",
    "    #   upcoming events and odds for different bookmakers.\n",
    "    # Events are ordered by start time (live events are first)\n",
    "    print()\n",
    "    print(\n",
    "        'Successfully got {} events'.format(len(odds_json['data'])),\n",
    "        'Here\\'s the first event:'\n",
    "    )\n",
    "    print(odds_json['data'][0])\n",
    "\n",
    "    # Check your usage\n",
    "    print()\n",
    "    print('Remaining requests', odds_response.headers['x-requests-remaining'])\n",
    "    print('Used requests', odds_response.headers['x-requests-used'])\n"
   ]
  },
  {
   "cell_type": "code",
   "execution_count": 110,
   "metadata": {},
   "outputs": [],
   "source": [
    "eventId = 'e3520db55ef2d7e8de8e2ed204a544c8'\n",
    "\n",
    "odds_response = requests.get(f'https://api.the-odds-api.com/v4/sports/basketball_nba/events/{eventId}/odds', params = {\n",
    "    'api_key': api_key,\n",
    "    'regions': 'us',\n",
    "   'markets': 'player_first_basket',\n",
    "   'oddsFormat': 'decimal'})"
   ]
  },
  {
   "cell_type": "code",
   "execution_count": 91,
   "metadata": {},
   "outputs": [
    {
     "data": {
      "text/plain": [
       "<Response [200]>"
      ]
     },
     "execution_count": 91,
     "metadata": {},
     "output_type": "execute_result"
    }
   ],
   "source": [
    "odds_response"
   ]
  },
  {
   "cell_type": "code",
   "execution_count": 92,
   "metadata": {},
   "outputs": [],
   "source": [
    "data = odds_response.json()"
   ]
  },
  {
   "cell_type": "code",
   "execution_count": 93,
   "metadata": {},
   "outputs": [
    {
     "data": {
      "text/plain": [
       "dict_keys(['id', 'sport_key', 'sport_title', 'commence_time', 'home_team', 'away_team', 'bookmakers'])"
      ]
     },
     "execution_count": 93,
     "metadata": {},
     "output_type": "execute_result"
    }
   ],
   "source": [
    "data.keys()"
   ]
  },
  {
   "cell_type": "code",
   "execution_count": 94,
   "metadata": {},
   "outputs": [
    {
     "data": {
      "text/plain": [
       "'fanduel'"
      ]
     },
     "execution_count": 94,
     "metadata": {},
     "output_type": "execute_result"
    }
   ],
   "source": [
    "data['bookmakers'][0]['key']"
   ]
  },
  {
   "cell_type": "code",
   "execution_count": 95,
   "metadata": {},
   "outputs": [
    {
     "data": {
      "text/plain": [
       "[{'key': 'player_first_basket',\n",
       "  'last_update': '2024-11-01T15:14:13Z',\n",
       "  'outcomes': [{'name': 'Yes', 'description': 'Jayson Tatum', 'price': 5.2},\n",
       "   {'name': 'Yes', 'description': 'Jaylen Brown', 'price': 6.0},\n",
       "   {'name': 'Yes', 'description': 'LaMelo Ball', 'price': 6.5},\n",
       "   {'name': 'Yes', 'description': 'Brandon Miller', 'price': 8.5},\n",
       "   {'name': 'Yes', 'description': 'Miles Bridges', 'price': 8.5},\n",
       "   {'name': 'Yes', 'description': 'Derrick White', 'price': 10.0},\n",
       "   {'name': 'Yes', 'description': 'Nick Richards', 'price': 11.0},\n",
       "   {'name': 'Yes', 'description': 'Jrue Holiday', 'price': 11.0},\n",
       "   {'name': 'Yes', 'description': 'Luke Kornet', 'price': 14.0},\n",
       "   {'name': 'Yes', 'description': 'Josh Green', 'price': 17.0}]}]"
      ]
     },
     "execution_count": 95,
     "metadata": {},
     "output_type": "execute_result"
    }
   ],
   "source": [
    "data['bookmakers'][0]['markets']"
   ]
  },
  {
   "cell_type": "code",
   "execution_count": 23,
   "metadata": {},
   "outputs": [
    {
     "data": {
      "text/plain": [
       "('Charlotte Hornets', 'Boston Celtics', '2024-11-01T23:10:00Z')"
      ]
     },
     "execution_count": 23,
     "metadata": {},
     "output_type": "execute_result"
    }
   ],
   "source": [
    "data[0]['home_team'], data[0]['away_team'], data[0]['commence_time']"
   ]
  },
  {
   "cell_type": "code",
   "execution_count": 53,
   "metadata": {},
   "outputs": [
    {
     "ename": "KeyError",
     "evalue": "0",
     "output_type": "error",
     "traceback": [
      "\u001b[0;31m---------------------------------------------------------------------------\u001b[0m",
      "\u001b[0;31mKeyError\u001b[0m                                  Traceback (most recent call last)",
      "Cell \u001b[0;32mIn[53], line 1\u001b[0m\n\u001b[0;32m----> 1\u001b[0m \u001b[43mdata\u001b[49m\u001b[43m[\u001b[49m\u001b[38;5;241;43m0\u001b[39;49m\u001b[43m]\u001b[49m[\u001b[38;5;124m'\u001b[39m\u001b[38;5;124mbookmakers\u001b[39m\u001b[38;5;124m'\u001b[39m][\u001b[38;5;241m0\u001b[39m]\n",
      "\u001b[0;31mKeyError\u001b[0m: 0"
     ]
    }
   ],
   "source": [
    "data"
   ]
  },
  {
   "cell_type": "code",
   "execution_count": 33,
   "metadata": {},
   "outputs": [],
   "source": [
    "page = requests.get(f'https://api.the-odds-api.com/v4/sports/basketball_nba/events?apiKey={api_key}')"
   ]
  },
  {
   "cell_type": "code",
   "execution_count": 35,
   "metadata": {},
   "outputs": [
    {
     "data": {
      "text/plain": [
       "[{'id': 'e3520db55ef2d7e8de8e2ed204a544c8',\n",
       "  'sport_key': 'basketball_nba',\n",
       "  'sport_title': 'NBA',\n",
       "  'commence_time': '2024-11-01T23:10:00Z',\n",
       "  'home_team': 'Charlotte Hornets',\n",
       "  'away_team': 'Boston Celtics'},\n",
       " {'id': '78f15d141ebf7a3845bd4be3a4828a82',\n",
       "  'sport_key': 'basketball_nba',\n",
       "  'sport_title': 'NBA',\n",
       "  'commence_time': '2024-11-01T23:10:00Z',\n",
       "  'home_team': 'Cleveland Cavaliers',\n",
       "  'away_team': 'Orlando Magic'},\n",
       " {'id': '77edacd134038bd26fb356dd29652cf3',\n",
       "  'sport_key': 'basketball_nba',\n",
       "  'sport_title': 'NBA',\n",
       "  'commence_time': '2024-11-01T23:10:00Z',\n",
       "  'home_team': 'Detroit Pistons',\n",
       "  'away_team': 'New York Knicks'},\n",
       " {'id': '4de83a69c1b9c9f100c25c109450b15d',\n",
       "  'sport_key': 'basketball_nba',\n",
       "  'sport_title': 'NBA',\n",
       "  'commence_time': '2024-11-01T23:40:00Z',\n",
       "  'home_team': 'Atlanta Hawks',\n",
       "  'away_team': 'Sacramento Kings'},\n",
       " {'id': 'f329b1799617663930ea0ac475620925',\n",
       "  'sport_key': 'basketball_nba',\n",
       "  'sport_title': 'NBA',\n",
       "  'commence_time': '2024-11-01T23:40:00Z',\n",
       "  'home_team': 'Brooklyn Nets',\n",
       "  'away_team': 'Chicago Bulls'},\n",
       " {'id': '6b3c89551ffb520dc60046290dbab9c5',\n",
       "  'sport_key': 'basketball_nba',\n",
       "  'sport_title': 'NBA',\n",
       "  'commence_time': '2024-11-01T23:40:00Z',\n",
       "  'home_team': 'Toronto Raptors',\n",
       "  'away_team': 'Los Angeles Lakers'},\n",
       " {'id': '7a829c48eb616be7d32bb1ea8f06b0e2',\n",
       "  'sport_key': 'basketball_nba',\n",
       "  'sport_title': 'NBA',\n",
       "  'commence_time': '2024-11-02T00:10:00Z',\n",
       "  'home_team': 'New Orleans Pelicans',\n",
       "  'away_team': 'Indiana Pacers'},\n",
       " {'id': '346bdb44d864cef818dec9050320d883',\n",
       "  'sport_key': 'basketball_nba',\n",
       "  'sport_title': 'NBA',\n",
       "  'commence_time': '2024-11-02T01:40:00Z',\n",
       "  'home_team': 'Minnesota Timberwolves',\n",
       "  'away_team': 'Denver Nuggets'},\n",
       " {'id': '3df5560073801880965b6f162a21ec36',\n",
       "  'sport_key': 'basketball_nba',\n",
       "  'sport_title': 'NBA',\n",
       "  'commence_time': '2024-11-02T02:10:00Z',\n",
       "  'home_team': 'Portland Trail Blazers',\n",
       "  'away_team': 'Oklahoma City Thunder'},\n",
       " {'id': '74058cb479045efa21ebd5c57050e23e',\n",
       "  'sport_key': 'basketball_nba',\n",
       "  'sport_title': 'NBA',\n",
       "  'commence_time': '2024-11-13T00:00:00Z',\n",
       "  'home_team': 'Boston Celtics',\n",
       "  'away_team': 'Atlanta Hawks'},\n",
       " {'id': 'ff0b160b9779ae75b9f7d05511270837',\n",
       "  'sport_key': 'basketball_nba',\n",
       "  'sport_title': 'NBA',\n",
       "  'commence_time': '2024-11-13T00:00:00Z',\n",
       "  'home_team': 'Orlando Magic',\n",
       "  'away_team': 'Charlotte Hornets'},\n",
       " {'id': 'e80e0c514aa69872360f58b079796a8b',\n",
       "  'sport_key': 'basketball_nba',\n",
       "  'sport_title': 'NBA',\n",
       "  'commence_time': '2024-11-13T00:00:00Z',\n",
       "  'home_team': 'Detroit Pistons',\n",
       "  'away_team': 'Miami Heat'},\n",
       " {'id': '2d650fff73dcc627c1c0de3a4694e9fc',\n",
       "  'sport_key': 'basketball_nba',\n",
       "  'sport_title': 'NBA',\n",
       "  'commence_time': '2024-11-13T00:30:00Z',\n",
       "  'home_team': 'Philadelphia 76ers',\n",
       "  'away_team': 'New York Knicks'},\n",
       " {'id': '30e4d7fc5396e7b0b8be16b278c123fe',\n",
       "  'sport_key': 'basketball_nba',\n",
       "  'sport_title': 'NBA',\n",
       "  'commence_time': '2024-11-13T01:00:00Z',\n",
       "  'home_team': 'Milwaukee Bucks',\n",
       "  'away_team': 'Toronto Raptors'},\n",
       " {'id': '4a86e15d2c8c52972524be69d15941cc',\n",
       "  'sport_key': 'basketball_nba',\n",
       "  'sport_title': 'NBA',\n",
       "  'commence_time': '2024-11-13T02:00:00Z',\n",
       "  'home_team': 'Portland Trail Blazers',\n",
       "  'away_team': 'Minnesota Timberwolves'},\n",
       " {'id': '6050b0be3ce7b57b77ef6695b9cecaa1',\n",
       "  'sport_key': 'basketball_nba',\n",
       "  'sport_title': 'NBA',\n",
       "  'commence_time': '2024-11-13T02:00:00Z',\n",
       "  'home_team': 'Utah Jazz',\n",
       "  'away_team': 'Phoenix Suns'},\n",
       " {'id': 'f0bfcb563a5de00b392bda6960db1796',\n",
       "  'sport_key': 'basketball_nba',\n",
       "  'sport_title': 'NBA',\n",
       "  'commence_time': '2024-11-13T03:00:00Z',\n",
       "  'home_team': 'Golden State Warriors',\n",
       "  'away_team': 'Dallas Mavericks'},\n",
       " {'id': '973a6ea86af7d9e2bf4c52509822f5bf',\n",
       "  'sport_key': 'basketball_nba',\n",
       "  'sport_title': 'NBA',\n",
       "  'commence_time': '2024-12-25T17:00:00Z',\n",
       "  'home_team': 'New York Knicks',\n",
       "  'away_team': 'San Antonio Spurs'},\n",
       " {'id': '07a07eaa8f786d68cb371107f36f5b33',\n",
       "  'sport_key': 'basketball_nba',\n",
       "  'sport_title': 'NBA',\n",
       "  'commence_time': '2024-12-25T19:30:00Z',\n",
       "  'home_team': 'Dallas Mavericks',\n",
       "  'away_team': 'Minnesota Timberwolves'},\n",
       " {'id': '6f66bc2154fb45b2047e1c1c5afcdc38',\n",
       "  'sport_key': 'basketball_nba',\n",
       "  'sport_title': 'NBA',\n",
       "  'commence_time': '2024-12-25T22:00:00Z',\n",
       "  'home_team': 'Boston Celtics',\n",
       "  'away_team': 'Philadelphia 76ers'},\n",
       " {'id': 'bc6f994bad539db5054c8b750c437fb8',\n",
       "  'sport_key': 'basketball_nba',\n",
       "  'sport_title': 'NBA',\n",
       "  'commence_time': '2024-12-26T01:00:00Z',\n",
       "  'home_team': 'Golden State Warriors',\n",
       "  'away_team': 'Los Angeles Lakers'},\n",
       " {'id': '22a9b650e64ca15cb0c83dc0148a571e',\n",
       "  'sport_key': 'basketball_nba',\n",
       "  'sport_title': 'NBA',\n",
       "  'commence_time': '2024-12-26T03:30:00Z',\n",
       "  'home_team': 'Phoenix Suns',\n",
       "  'away_team': 'Denver Nuggets'}]"
      ]
     },
     "execution_count": 35,
     "metadata": {},
     "output_type": "execute_result"
    }
   ],
   "source": [
    "page.json()"
   ]
  },
  {
   "cell_type": "code",
   "execution_count": 103,
   "metadata": {},
   "outputs": [
    {
     "data": {
      "text/plain": [
       "['Date',\n",
       " 'Content-Type',\n",
       " 'Content-Length',\n",
       " 'Connection',\n",
       " 'content-encoding',\n",
       " 'X-Requests-Used',\n",
       " 'X-Requests-Remaining',\n",
       " 'X-Requests-Last',\n",
       " 'vary',\n",
       " 'Apigw-Requestid']"
      ]
     },
     "execution_count": 103,
     "metadata": {},
     "output_type": "execute_result"
    }
   ],
   "source": [
    "list(odds_response.headers.keys())"
   ]
  },
  {
   "cell_type": "code",
   "execution_count": null,
   "metadata": {},
   "outputs": [],
   "source": [
    "# Scrape historical first basket\n",
    "# Predict first basket scorer\n",
    "#   PPG\n",
    "#   VORP, OWS, ...\n",
    "#   USG%\n",
    "#   First basket history\n",
    "\n",
    "\n",
    "# Scrape historical tip-off winners\n",
    "# Predict tip-off winner\n",
    "#   Height\n",
    "#   Tip-off winning ratio\n",
    "#   Rebounds"
   ]
  }
 ],
 "metadata": {
  "kernelspec": {
   "display_name": "nbaenv",
   "language": "python",
   "name": "python3"
  },
  "language_info": {
   "codemirror_mode": {
    "name": "ipython",
    "version": 3
   },
   "file_extension": ".py",
   "mimetype": "text/x-python",
   "name": "python",
   "nbconvert_exporter": "python",
   "pygments_lexer": "ipython3",
   "version": "3.10.15"
  }
 },
 "nbformat": 4,
 "nbformat_minor": 2
}
