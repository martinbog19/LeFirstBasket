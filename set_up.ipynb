{
 "cells": [
  {
   "cell_type": "code",
   "execution_count": 68,
   "metadata": {},
   "outputs": [],
   "source": [
    "import pandas as pd\n",
    "import json\n",
    "import requests\n",
    "import numpy as np"
   ]
  },
  {
   "cell_type": "code",
   "execution_count": 69,
   "metadata": {},
   "outputs": [],
   "source": [
    "api_key = 'a7bfde5bb651ac64e61f99c67631ef47'"
   ]
  },
  {
   "cell_type": "code",
   "execution_count": 3,
   "metadata": {},
   "outputs": [],
   "source": [
    "import json\n",
    "import requests\n",
    "\n",
    "# First get a list of in-season sports\n",
    "sports_response = requests.get('https://api.the-odds-api.com/v3/sports', params={\n",
    "    'api_key': api_key\n",
    "})"
   ]
  },
  {
   "cell_type": "code",
   "execution_count": 9,
   "metadata": {},
   "outputs": [],
   "source": [
    "\n",
    "sports_json = json.loads(sports_response.text)"
   ]
  },
  {
   "cell_type": "code",
   "execution_count": 10,
   "metadata": {},
   "outputs": [
    {
     "name": "stdout",
     "output_type": "stream",
     "text": [
      "\n",
      "Successfully got 58 sports Here's the first sport:\n",
      "{'key': 'americanfootball_cfl', 'active': True, 'group': 'American Football', 'details': 'Canadian Football League', 'title': 'CFL', 'has_outrights': False}\n"
     ]
    }
   ],
   "source": [
    "\n",
    "if not sports_json['success']:\n",
    "    print(\n",
    "        'There was a problem with the sports request:',\n",
    "        sports_json['msg']\n",
    "    )\n",
    "\n",
    "\n",
    "else:\n",
    "    print()\n",
    "    print(\n",
    "        'Successfully got {} sports'.format(len(sports_json['data'])),\n",
    "        'Here\\'s the first sport:'\n",
    "    )\n",
    "    print(sports_json['data'][0])"
   ]
  },
  {
   "cell_type": "code",
   "execution_count": null,
   "metadata": {},
   "outputs": [],
   "source": [
    "# To get odds for a sepcific sport, use the sport key from the last request\n",
    "#   or set sport to \"upcoming\" to see live and upcoming across all sports\n",
    "sport_key = 'upcoming'\n",
    "\n",
    "odds_response = requests.get('https://api.the-odds-api.com/v3/odds', params={\n",
    "    'api_key': api_key,\n",
    "    'sport': sport_key,\n",
    "    'region': 'uk', # uk | us | eu | au\n",
    "    'mkt': 'h2h' # h2h | spreads | totals\n",
    "})\n",
    "\n",
    "odds_json = json.loads(odds_response.text)\n",
    "if not odds_json['success']:\n",
    "    print(\n",
    "        'There was a problem with the odds request:',\n",
    "        odds_json['msg']\n",
    "    )\n",
    "\n",
    "else:\n",
    "    # odds_json['data'] contains a list of live and \n",
    "    #   upcoming events and odds for different bookmakers.\n",
    "    # Events are ordered by start time (live events are first)\n",
    "    print()\n",
    "    print(\n",
    "        'Successfully got {} events'.format(len(odds_json['data'])),\n",
    "        'Here\\'s the first event:'\n",
    "    )\n",
    "    print(odds_json['data'][0])\n",
    "\n",
    "    # Check your usage\n",
    "    print()\n",
    "    print('Remaining requests', odds_response.headers['x-requests-remaining'])\n",
    "    print('Used requests', odds_response.headers['x-requests-used'])\n"
   ]
  },
  {
   "cell_type": "code",
   "execution_count": 110,
   "metadata": {},
   "outputs": [],
   "source": [
    "eventId = 'e3520db55ef2d7e8de8e2ed204a544c8'\n",
    "\n",
    "odds_response = requests.get(f'https://api.the-odds-api.com/v4/sports/basketball_nba/events/{eventId}/odds', params = {\n",
    "    'api_key': api_key,\n",
    "    'regions': 'us',\n",
    "   'markets': 'player_first_basket',\n",
    "   'oddsFormat': 'decimal'})"
   ]
  },
  {
   "cell_type": "code",
   "execution_count": 91,
   "metadata": {},
   "outputs": [
    {
     "data": {
      "text/plain": [
       "<Response [200]>"
      ]
     },
     "execution_count": 91,
     "metadata": {},
     "output_type": "execute_result"
    }
   ],
   "source": [
    "odds_response"
   ]
  },
  {
   "cell_type": "code",
   "execution_count": 92,
   "metadata": {},
   "outputs": [],
   "source": [
    "data = odds_response.json()"
   ]
  },
  {
   "cell_type": "code",
   "execution_count": 93,
   "metadata": {},
   "outputs": [
    {
     "data": {
      "text/plain": [
       "dict_keys(['id', 'sport_key', 'sport_title', 'commence_time', 'home_team', 'away_team', 'bookmakers'])"
      ]
     },
     "execution_count": 93,
     "metadata": {},
     "output_type": "execute_result"
    }
   ],
   "source": [
    "data.keys()"
   ]
  },
  {
   "cell_type": "code",
   "execution_count": 94,
   "metadata": {},
   "outputs": [
    {
     "data": {
      "text/plain": [
       "'fanduel'"
      ]
     },
     "execution_count": 94,
     "metadata": {},
     "output_type": "execute_result"
    }
   ],
   "source": [
    "data['bookmakers'][0]['key']"
   ]
  },
  {
   "cell_type": "code",
   "execution_count": 95,
   "metadata": {},
   "outputs": [
    {
     "data": {
      "text/plain": [
       "[{'key': 'player_first_basket',\n",
       "  'last_update': '2024-11-01T15:14:13Z',\n",
       "  'outcomes': [{'name': 'Yes', 'description': 'Jayson Tatum', 'price': 5.2},\n",
       "   {'name': 'Yes', 'description': 'Jaylen Brown', 'price': 6.0},\n",
       "   {'name': 'Yes', 'description': 'LaMelo Ball', 'price': 6.5},\n",
       "   {'name': 'Yes', 'description': 'Brandon Miller', 'price': 8.5},\n",
       "   {'name': 'Yes', 'description': 'Miles Bridges', 'price': 8.5},\n",
       "   {'name': 'Yes', 'description': 'Derrick White', 'price': 10.0},\n",
       "   {'name': 'Yes', 'description': 'Nick Richards', 'price': 11.0},\n",
       "   {'name': 'Yes', 'description': 'Jrue Holiday', 'price': 11.0},\n",
       "   {'name': 'Yes', 'description': 'Luke Kornet', 'price': 14.0},\n",
       "   {'name': 'Yes', 'description': 'Josh Green', 'price': 17.0}]}]"
      ]
     },
     "execution_count": 95,
     "metadata": {},
     "output_type": "execute_result"
    }
   ],
   "source": [
    "data['bookmakers'][0]['markets']"
   ]
  },
  {
   "cell_type": "code",
   "execution_count": 23,
   "metadata": {},
   "outputs": [
    {
     "data": {
      "text/plain": [
       "('Charlotte Hornets', 'Boston Celtics', '2024-11-01T23:10:00Z')"
      ]
     },
     "execution_count": 23,
     "metadata": {},
     "output_type": "execute_result"
    }
   ],
   "source": [
    "data[0]['home_team'], data[0]['away_team'], data[0]['commence_time']"
   ]
  },
  {
   "cell_type": "code",
   "execution_count": null,
   "metadata": {},
   "outputs": [],
   "source": []
  },
  {
   "cell_type": "code",
   "execution_count": 70,
   "metadata": {},
   "outputs": [],
   "source": [
    "events_response = requests.get(f'https://api.the-odds-api.com/v4/sports/basketball_nba/events',\n",
    "                               params = {'apiKey': api_key})\n",
    "                                    #     'commenceTimeTo': '2024-11-08T12:00:00Z'})"
   ]
  },
  {
   "cell_type": "code",
   "execution_count": 71,
   "metadata": {},
   "outputs": [],
   "source": [
    "games = pd.DataFrame(events_response.json())\n",
    "games['commence_time'] = pd.to_datetime(games['commence_time'])"
   ]
  },
  {
   "cell_type": "code",
   "execution_count": 81,
   "metadata": {},
   "outputs": [
    {
     "data": {
      "text/html": [
       "<div>\n",
       "<style scoped>\n",
       "    .dataframe tbody tr th:only-of-type {\n",
       "        vertical-align: middle;\n",
       "    }\n",
       "\n",
       "    .dataframe tbody tr th {\n",
       "        vertical-align: top;\n",
       "    }\n",
       "\n",
       "    .dataframe thead th {\n",
       "        text-align: right;\n",
       "    }\n",
       "</style>\n",
       "<table border=\"1\" class=\"dataframe\">\n",
       "  <thead>\n",
       "    <tr style=\"text-align: right;\">\n",
       "      <th></th>\n",
       "      <th>id</th>\n",
       "      <th>sport_key</th>\n",
       "      <th>sport_title</th>\n",
       "      <th>commence_time</th>\n",
       "      <th>home_team</th>\n",
       "      <th>away_team</th>\n",
       "    </tr>\n",
       "  </thead>\n",
       "  <tbody>\n",
       "    <tr>\n",
       "      <th>0</th>\n",
       "      <td>74058cb479045efa21ebd5c57050e23e</td>\n",
       "      <td>basketball_nba</td>\n",
       "      <td>NBA</td>\n",
       "      <td>2024-11-13 00:10:00+00:00</td>\n",
       "      <td>Boston Celtics</td>\n",
       "      <td>Atlanta Hawks</td>\n",
       "    </tr>\n",
       "    <tr>\n",
       "      <th>1</th>\n",
       "      <td>ff0b160b9779ae75b9f7d05511270837</td>\n",
       "      <td>basketball_nba</td>\n",
       "      <td>NBA</td>\n",
       "      <td>2024-11-13 00:10:00+00:00</td>\n",
       "      <td>Orlando Magic</td>\n",
       "      <td>Charlotte Hornets</td>\n",
       "    </tr>\n",
       "    <tr>\n",
       "      <th>2</th>\n",
       "      <td>e80e0c514aa69872360f58b079796a8b</td>\n",
       "      <td>basketball_nba</td>\n",
       "      <td>NBA</td>\n",
       "      <td>2024-11-13 00:10:00+00:00</td>\n",
       "      <td>Detroit Pistons</td>\n",
       "      <td>Miami Heat</td>\n",
       "    </tr>\n",
       "    <tr>\n",
       "      <th>3</th>\n",
       "      <td>2d650fff73dcc627c1c0de3a4694e9fc</td>\n",
       "      <td>basketball_nba</td>\n",
       "      <td>NBA</td>\n",
       "      <td>2024-11-13 00:40:00+00:00</td>\n",
       "      <td>Philadelphia 76ers</td>\n",
       "      <td>New York Knicks</td>\n",
       "    </tr>\n",
       "    <tr>\n",
       "      <th>4</th>\n",
       "      <td>30e4d7fc5396e7b0b8be16b278c123fe</td>\n",
       "      <td>basketball_nba</td>\n",
       "      <td>NBA</td>\n",
       "      <td>2024-11-13 01:10:00+00:00</td>\n",
       "      <td>Milwaukee Bucks</td>\n",
       "      <td>Toronto Raptors</td>\n",
       "    </tr>\n",
       "    <tr>\n",
       "      <th>5</th>\n",
       "      <td>6050b0be3ce7b57b77ef6695b9cecaa1</td>\n",
       "      <td>basketball_nba</td>\n",
       "      <td>NBA</td>\n",
       "      <td>2024-11-13 02:10:00+00:00</td>\n",
       "      <td>Utah Jazz</td>\n",
       "      <td>Phoenix Suns</td>\n",
       "    </tr>\n",
       "    <tr>\n",
       "      <th>6</th>\n",
       "      <td>f0bfcb563a5de00b392bda6960db1796</td>\n",
       "      <td>basketball_nba</td>\n",
       "      <td>NBA</td>\n",
       "      <td>2024-11-13 03:10:00+00:00</td>\n",
       "      <td>Golden State Warriors</td>\n",
       "      <td>Dallas Mavericks</td>\n",
       "    </tr>\n",
       "    <tr>\n",
       "      <th>7</th>\n",
       "      <td>4a86e15d2c8c52972524be69d15941cc</td>\n",
       "      <td>basketball_nba</td>\n",
       "      <td>NBA</td>\n",
       "      <td>2024-11-13 03:10:00+00:00</td>\n",
       "      <td>Portland Trail Blazers</td>\n",
       "      <td>Minnesota Timberwolves</td>\n",
       "    </tr>\n",
       "  </tbody>\n",
       "</table>\n",
       "</div>"
      ],
      "text/plain": [
       "                                 id       sport_key sport_title  \\\n",
       "0  74058cb479045efa21ebd5c57050e23e  basketball_nba         NBA   \n",
       "1  ff0b160b9779ae75b9f7d05511270837  basketball_nba         NBA   \n",
       "2  e80e0c514aa69872360f58b079796a8b  basketball_nba         NBA   \n",
       "3  2d650fff73dcc627c1c0de3a4694e9fc  basketball_nba         NBA   \n",
       "4  30e4d7fc5396e7b0b8be16b278c123fe  basketball_nba         NBA   \n",
       "5  6050b0be3ce7b57b77ef6695b9cecaa1  basketball_nba         NBA   \n",
       "6  f0bfcb563a5de00b392bda6960db1796  basketball_nba         NBA   \n",
       "7  4a86e15d2c8c52972524be69d15941cc  basketball_nba         NBA   \n",
       "\n",
       "              commence_time               home_team               away_team  \n",
       "0 2024-11-13 00:10:00+00:00          Boston Celtics           Atlanta Hawks  \n",
       "1 2024-11-13 00:10:00+00:00           Orlando Magic       Charlotte Hornets  \n",
       "2 2024-11-13 00:10:00+00:00         Detroit Pistons              Miami Heat  \n",
       "3 2024-11-13 00:40:00+00:00      Philadelphia 76ers         New York Knicks  \n",
       "4 2024-11-13 01:10:00+00:00         Milwaukee Bucks         Toronto Raptors  \n",
       "5 2024-11-13 02:10:00+00:00               Utah Jazz            Phoenix Suns  \n",
       "6 2024-11-13 03:10:00+00:00   Golden State Warriors        Dallas Mavericks  \n",
       "7 2024-11-13 03:10:00+00:00  Portland Trail Blazers  Minnesota Timberwolves  "
      ]
     },
     "execution_count": 81,
     "metadata": {},
     "output_type": "execute_result"
    }
   ],
   "source": [
    "games = games.head(8)\n",
    "games"
   ]
  },
  {
   "cell_type": "code",
   "execution_count": 76,
   "metadata": {},
   "outputs": [
    {
     "name": "stdout",
     "output_type": "stream",
     "text": [
      "74058cb479045efa21ebd5c57050e23e\n",
      "ff0b160b9779ae75b9f7d05511270837\n",
      "e80e0c514aa69872360f58b079796a8b\n",
      "2d650fff73dcc627c1c0de3a4694e9fc\n",
      "30e4d7fc5396e7b0b8be16b278c123fe\n",
      "6050b0be3ce7b57b77ef6695b9cecaa1\n",
      "f0bfcb563a5de00b392bda6960db1796\n",
      "4a86e15d2c8c52972524be69d15941cc\n"
     ]
    }
   ],
   "source": [
    "for eventId in games['id'] :\n",
    "    print(eventId)"
   ]
  },
  {
   "cell_type": "code",
   "execution_count": 77,
   "metadata": {},
   "outputs": [],
   "source": [
    "odds_response = requests.get(f'https://api.the-odds-api.com/v4/sports/basketball_nba/events/{eventId}/odds',\n",
    "                             params = {'apiKey': api_key,\n",
    "                                       'regions': 'us',\n",
    "                                       'markets': 'player_first_basket',\n",
    "                                       'oddsFormat': 'decimal'})"
   ]
  },
  {
   "cell_type": "code",
   "execution_count": 78,
   "metadata": {},
   "outputs": [],
   "source": [
    "fanduel_idx = np.argmax(['fanduel' in x['key'] for x in odds_response.json()['bookmakers']])\n",
    "odds = odds_response.json()['bookmakers'][fanduel_idx]['markets'][0]"
   ]
  },
  {
   "cell_type": "code",
   "execution_count": 85,
   "metadata": {},
   "outputs": [],
   "source": [
    "odds_df = (\n",
    "    pd.DataFrame(odds['outcomes'])\n",
    "    .rename(columns = {'description': 'player', 'price': 'decimal_odds'})\n",
    "    .drop(columns = 'name')\n",
    ")"
   ]
  },
  {
   "cell_type": "code",
   "execution_count": 86,
   "metadata": {},
   "outputs": [
    {
     "data": {
      "text/html": [
       "<div>\n",
       "<style scoped>\n",
       "    .dataframe tbody tr th:only-of-type {\n",
       "        vertical-align: middle;\n",
       "    }\n",
       "\n",
       "    .dataframe tbody tr th {\n",
       "        vertical-align: top;\n",
       "    }\n",
       "\n",
       "    .dataframe thead th {\n",
       "        text-align: right;\n",
       "    }\n",
       "</style>\n",
       "<table border=\"1\" class=\"dataframe\">\n",
       "  <thead>\n",
       "    <tr style=\"text-align: right;\">\n",
       "      <th></th>\n",
       "      <th>player</th>\n",
       "      <th>decimal_odds</th>\n",
       "    </tr>\n",
       "  </thead>\n",
       "  <tbody>\n",
       "    <tr>\n",
       "      <th>0</th>\n",
       "      <td>Deandre Ayton</td>\n",
       "      <td>6.5</td>\n",
       "    </tr>\n",
       "    <tr>\n",
       "      <th>1</th>\n",
       "      <td>Anthony Edwards</td>\n",
       "      <td>7.0</td>\n",
       "    </tr>\n",
       "    <tr>\n",
       "      <th>2</th>\n",
       "      <td>Julius Randle</td>\n",
       "      <td>7.5</td>\n",
       "    </tr>\n",
       "    <tr>\n",
       "      <th>3</th>\n",
       "      <td>Jerami Grant</td>\n",
       "      <td>7.5</td>\n",
       "    </tr>\n",
       "    <tr>\n",
       "      <th>4</th>\n",
       "      <td>Rudy Gobert</td>\n",
       "      <td>8.5</td>\n",
       "    </tr>\n",
       "    <tr>\n",
       "      <th>5</th>\n",
       "      <td>Anfernee Simons</td>\n",
       "      <td>9.0</td>\n",
       "    </tr>\n",
       "    <tr>\n",
       "      <th>6</th>\n",
       "      <td>Shaedon Sharpe</td>\n",
       "      <td>10.0</td>\n",
       "    </tr>\n",
       "    <tr>\n",
       "      <th>7</th>\n",
       "      <td>Toumani Camara</td>\n",
       "      <td>11.0</td>\n",
       "    </tr>\n",
       "    <tr>\n",
       "      <th>8</th>\n",
       "      <td>Jaden McDaniels</td>\n",
       "      <td>11.0</td>\n",
       "    </tr>\n",
       "    <tr>\n",
       "      <th>9</th>\n",
       "      <td>Mike Conley</td>\n",
       "      <td>14.0</td>\n",
       "    </tr>\n",
       "  </tbody>\n",
       "</table>\n",
       "</div>"
      ],
      "text/plain": [
       "            player  decimal_odds\n",
       "0    Deandre Ayton           6.5\n",
       "1  Anthony Edwards           7.0\n",
       "2    Julius Randle           7.5\n",
       "3     Jerami Grant           7.5\n",
       "4      Rudy Gobert           8.5\n",
       "5  Anfernee Simons           9.0\n",
       "6   Shaedon Sharpe          10.0\n",
       "7   Toumani Camara          11.0\n",
       "8  Jaden McDaniels          11.0\n",
       "9      Mike Conley          14.0"
      ]
     },
     "execution_count": 86,
     "metadata": {},
     "output_type": "execute_result"
    }
   ],
   "source": [
    "odds_df['event_id'] = eventId"
   ]
  },
  {
   "cell_type": "code",
   "execution_count": null,
   "metadata": {},
   "outputs": [],
   "source": [
    "# Scrape historical first basket\n",
    "# Predict first basket scorer\n",
    "#   PPG\n",
    "#   VORP, OWS, ...\n",
    "#   USG%\n",
    "#   First basket history\n",
    "\n",
    "\n",
    "# Scrape historical tip-off winners\n",
    "# Predict tip-off winner\n",
    "#   Height\n",
    "#   Tip-off winning ratio\n",
    "#   Rebounds"
   ]
  },
  {
   "cell_type": "code",
   "execution_count": 10,
   "metadata": {},
   "outputs": [
    {
     "data": {
      "text/html": [
       "<div>\n",
       "<style scoped>\n",
       "    .dataframe tbody tr th:only-of-type {\n",
       "        vertical-align: middle;\n",
       "    }\n",
       "\n",
       "    .dataframe tbody tr th {\n",
       "        vertical-align: top;\n",
       "    }\n",
       "\n",
       "    .dataframe thead th {\n",
       "        text-align: right;\n",
       "    }\n",
       "</style>\n",
       "<table border=\"1\" class=\"dataframe\">\n",
       "  <thead>\n",
       "    <tr style=\"text-align: right;\">\n",
       "      <th></th>\n",
       "      <th>id</th>\n",
       "      <th>sport_key</th>\n",
       "      <th>sport_title</th>\n",
       "      <th>commence_time</th>\n",
       "      <th>home_team</th>\n",
       "      <th>away_team</th>\n",
       "    </tr>\n",
       "  </thead>\n",
       "  <tbody>\n",
       "    <tr>\n",
       "      <th>0</th>\n",
       "      <td>84d6b1ca05b2ad858b5b9ac52ea4b0ee</td>\n",
       "      <td>basketball_nba</td>\n",
       "      <td>NBA</td>\n",
       "      <td>2024-11-08T01:10:00Z</td>\n",
       "      <td>Chicago Bulls</td>\n",
       "      <td>Minnesota Timberwolves</td>\n",
       "    </tr>\n",
       "    <tr>\n",
       "      <th>1</th>\n",
       "      <td>1e6137994854a6163d6f9fea8dc6e83e</td>\n",
       "      <td>basketball_nba</td>\n",
       "      <td>NBA</td>\n",
       "      <td>2024-11-08T01:10:00Z</td>\n",
       "      <td>Milwaukee Bucks</td>\n",
       "      <td>Utah Jazz</td>\n",
       "    </tr>\n",
       "    <tr>\n",
       "      <th>2</th>\n",
       "      <td>808cd638f31e1657b3c5cd3841a76b4a</td>\n",
       "      <td>basketball_nba</td>\n",
       "      <td>NBA</td>\n",
       "      <td>2024-11-08T01:10:00Z</td>\n",
       "      <td>San Antonio Spurs</td>\n",
       "      <td>Portland Trail Blazers</td>\n",
       "    </tr>\n",
       "    <tr>\n",
       "      <th>3</th>\n",
       "      <td>74058cb479045efa21ebd5c57050e23e</td>\n",
       "      <td>basketball_nba</td>\n",
       "      <td>NBA</td>\n",
       "      <td>2024-11-13T00:00:00Z</td>\n",
       "      <td>Boston Celtics</td>\n",
       "      <td>Atlanta Hawks</td>\n",
       "    </tr>\n",
       "    <tr>\n",
       "      <th>4</th>\n",
       "      <td>e80e0c514aa69872360f58b079796a8b</td>\n",
       "      <td>basketball_nba</td>\n",
       "      <td>NBA</td>\n",
       "      <td>2024-11-13T00:00:00Z</td>\n",
       "      <td>Detroit Pistons</td>\n",
       "      <td>Miami Heat</td>\n",
       "    </tr>\n",
       "    <tr>\n",
       "      <th>5</th>\n",
       "      <td>2d650fff73dcc627c1c0de3a4694e9fc</td>\n",
       "      <td>basketball_nba</td>\n",
       "      <td>NBA</td>\n",
       "      <td>2024-11-13T00:30:00Z</td>\n",
       "      <td>Philadelphia 76ers</td>\n",
       "      <td>New York Knicks</td>\n",
       "    </tr>\n",
       "    <tr>\n",
       "      <th>6</th>\n",
       "      <td>30e4d7fc5396e7b0b8be16b278c123fe</td>\n",
       "      <td>basketball_nba</td>\n",
       "      <td>NBA</td>\n",
       "      <td>2024-11-13T01:00:00Z</td>\n",
       "      <td>Milwaukee Bucks</td>\n",
       "      <td>Toronto Raptors</td>\n",
       "    </tr>\n",
       "    <tr>\n",
       "      <th>7</th>\n",
       "      <td>6050b0be3ce7b57b77ef6695b9cecaa1</td>\n",
       "      <td>basketball_nba</td>\n",
       "      <td>NBA</td>\n",
       "      <td>2024-11-13T02:00:00Z</td>\n",
       "      <td>Utah Jazz</td>\n",
       "      <td>Phoenix Suns</td>\n",
       "    </tr>\n",
       "    <tr>\n",
       "      <th>8</th>\n",
       "      <td>f0bfcb563a5de00b392bda6960db1796</td>\n",
       "      <td>basketball_nba</td>\n",
       "      <td>NBA</td>\n",
       "      <td>2024-11-13T03:00:00Z</td>\n",
       "      <td>Golden State Warriors</td>\n",
       "      <td>Dallas Mavericks</td>\n",
       "    </tr>\n",
       "    <tr>\n",
       "      <th>9</th>\n",
       "      <td>4a86e15d2c8c52972524be69d15941cc</td>\n",
       "      <td>basketball_nba</td>\n",
       "      <td>NBA</td>\n",
       "      <td>2024-11-13T03:00:00Z</td>\n",
       "      <td>Portland Trail Blazers</td>\n",
       "      <td>Minnesota Timberwolves</td>\n",
       "    </tr>\n",
       "    <tr>\n",
       "      <th>10</th>\n",
       "      <td>973a6ea86af7d9e2bf4c52509822f5bf</td>\n",
       "      <td>basketball_nba</td>\n",
       "      <td>NBA</td>\n",
       "      <td>2024-12-25T17:00:00Z</td>\n",
       "      <td>New York Knicks</td>\n",
       "      <td>San Antonio Spurs</td>\n",
       "    </tr>\n",
       "    <tr>\n",
       "      <th>11</th>\n",
       "      <td>07a07eaa8f786d68cb371107f36f5b33</td>\n",
       "      <td>basketball_nba</td>\n",
       "      <td>NBA</td>\n",
       "      <td>2024-12-25T19:30:00Z</td>\n",
       "      <td>Dallas Mavericks</td>\n",
       "      <td>Minnesota Timberwolves</td>\n",
       "    </tr>\n",
       "    <tr>\n",
       "      <th>12</th>\n",
       "      <td>6f66bc2154fb45b2047e1c1c5afcdc38</td>\n",
       "      <td>basketball_nba</td>\n",
       "      <td>NBA</td>\n",
       "      <td>2024-12-25T22:00:00Z</td>\n",
       "      <td>Boston Celtics</td>\n",
       "      <td>Philadelphia 76ers</td>\n",
       "    </tr>\n",
       "    <tr>\n",
       "      <th>13</th>\n",
       "      <td>bc6f994bad539db5054c8b750c437fb8</td>\n",
       "      <td>basketball_nba</td>\n",
       "      <td>NBA</td>\n",
       "      <td>2024-12-26T01:00:00Z</td>\n",
       "      <td>Golden State Warriors</td>\n",
       "      <td>Los Angeles Lakers</td>\n",
       "    </tr>\n",
       "    <tr>\n",
       "      <th>14</th>\n",
       "      <td>22a9b650e64ca15cb0c83dc0148a571e</td>\n",
       "      <td>basketball_nba</td>\n",
       "      <td>NBA</td>\n",
       "      <td>2024-12-26T03:30:00Z</td>\n",
       "      <td>Phoenix Suns</td>\n",
       "      <td>Denver Nuggets</td>\n",
       "    </tr>\n",
       "  </tbody>\n",
       "</table>\n",
       "</div>"
      ],
      "text/plain": [
       "                                  id       sport_key sport_title  \\\n",
       "0   84d6b1ca05b2ad858b5b9ac52ea4b0ee  basketball_nba         NBA   \n",
       "1   1e6137994854a6163d6f9fea8dc6e83e  basketball_nba         NBA   \n",
       "2   808cd638f31e1657b3c5cd3841a76b4a  basketball_nba         NBA   \n",
       "3   74058cb479045efa21ebd5c57050e23e  basketball_nba         NBA   \n",
       "4   e80e0c514aa69872360f58b079796a8b  basketball_nba         NBA   \n",
       "5   2d650fff73dcc627c1c0de3a4694e9fc  basketball_nba         NBA   \n",
       "6   30e4d7fc5396e7b0b8be16b278c123fe  basketball_nba         NBA   \n",
       "7   6050b0be3ce7b57b77ef6695b9cecaa1  basketball_nba         NBA   \n",
       "8   f0bfcb563a5de00b392bda6960db1796  basketball_nba         NBA   \n",
       "9   4a86e15d2c8c52972524be69d15941cc  basketball_nba         NBA   \n",
       "10  973a6ea86af7d9e2bf4c52509822f5bf  basketball_nba         NBA   \n",
       "11  07a07eaa8f786d68cb371107f36f5b33  basketball_nba         NBA   \n",
       "12  6f66bc2154fb45b2047e1c1c5afcdc38  basketball_nba         NBA   \n",
       "13  bc6f994bad539db5054c8b750c437fb8  basketball_nba         NBA   \n",
       "14  22a9b650e64ca15cb0c83dc0148a571e  basketball_nba         NBA   \n",
       "\n",
       "           commence_time               home_team               away_team  \n",
       "0   2024-11-08T01:10:00Z           Chicago Bulls  Minnesota Timberwolves  \n",
       "1   2024-11-08T01:10:00Z         Milwaukee Bucks               Utah Jazz  \n",
       "2   2024-11-08T01:10:00Z       San Antonio Spurs  Portland Trail Blazers  \n",
       "3   2024-11-13T00:00:00Z          Boston Celtics           Atlanta Hawks  \n",
       "4   2024-11-13T00:00:00Z         Detroit Pistons              Miami Heat  \n",
       "5   2024-11-13T00:30:00Z      Philadelphia 76ers         New York Knicks  \n",
       "6   2024-11-13T01:00:00Z         Milwaukee Bucks         Toronto Raptors  \n",
       "7   2024-11-13T02:00:00Z               Utah Jazz            Phoenix Suns  \n",
       "8   2024-11-13T03:00:00Z   Golden State Warriors        Dallas Mavericks  \n",
       "9   2024-11-13T03:00:00Z  Portland Trail Blazers  Minnesota Timberwolves  \n",
       "10  2024-12-25T17:00:00Z         New York Knicks       San Antonio Spurs  \n",
       "11  2024-12-25T19:30:00Z        Dallas Mavericks  Minnesota Timberwolves  \n",
       "12  2024-12-25T22:00:00Z          Boston Celtics      Philadelphia 76ers  \n",
       "13  2024-12-26T01:00:00Z   Golden State Warriors      Los Angeles Lakers  \n",
       "14  2024-12-26T03:30:00Z            Phoenix Suns          Denver Nuggets  "
      ]
     },
     "execution_count": 10,
     "metadata": {},
     "output_type": "execute_result"
    }
   ],
   "source": [
    "pd.DataFrame(events_response.json())"
   ]
  },
  {
   "cell_type": "code",
   "execution_count": null,
   "metadata": {},
   "outputs": [],
   "source": []
  }
 ],
 "metadata": {
  "kernelspec": {
   "display_name": "nbaenv",
   "language": "python",
   "name": "python3"
  },
  "language_info": {
   "codemirror_mode": {
    "name": "ipython",
    "version": 3
   },
   "file_extension": ".py",
   "mimetype": "text/x-python",
   "name": "python",
   "nbconvert_exporter": "python",
   "pygments_lexer": "ipython3",
   "version": "3.10.15"
  }
 },
 "nbformat": 4,
 "nbformat_minor": 2
}
