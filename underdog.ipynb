{
 "cells": [
  {
   "cell_type": "code",
   "execution_count": 19,
   "metadata": {},
   "outputs": [],
   "source": [
    "import pandas as pd\n",
    "import numpy as np\n",
    "import matplotlib.pyplot as plt"
   ]
  },
  {
   "cell_type": "code",
   "execution_count": 251,
   "metadata": {},
   "outputs": [],
   "source": [
    "data = pd.concat([pd.read_csv(f'data/rosters.nosync/rosters_{year}.csv') for year in np.arange(2015, 2026)]).reset_index(drop = True)"
   ]
  },
  {
   "cell_type": "code",
   "execution_count": 252,
   "metadata": {},
   "outputs": [],
   "source": [
    "features = []\n",
    "for f in ['PTS', 'FGA', 'MP', 'USG%']:\n",
    "    for w in [1, 5, 10, 15, 20] :\n",
    "        data[f'{f}_{w}'] = data.groupby('player_id')[f'{f}'].rolling(w, min_periods = 1).mean().reset_index(level = 0, drop = True)\n",
    "        data[f'{f}_{w}'] = data.groupby('player_id')[f'{f}_{w}'].shift()\n",
    "        features.append(f'{f}_{w}')"
   ]
  },
  {
   "cell_type": "code",
   "execution_count": 253,
   "metadata": {},
   "outputs": [],
   "source": [
    "data['PTS_avg'] = data.groupby('player_id')['PTS'].rolling(100, min_periods = 1).mean().reset_index(level = 0, drop = True)\n",
    "data['PTS_avg'] = data.groupby('player_id')['PTS_avg'].shift()"
   ]
  },
  {
   "cell_type": "code",
   "execution_count": 254,
   "metadata": {},
   "outputs": [],
   "source": [
    "data_full = pd.DataFrame(np.tile(data, (10, 1)))\n",
    "data_full.columns = data.columns\n",
    "data_full.dropna(inplace = True)"
   ]
  },
  {
   "cell_type": "code",
   "execution_count": 255,
   "metadata": {},
   "outputs": [],
   "source": [
    "data_full['thres'] = np.random.poisson(data_full['PTS_avg']) + .5\n",
    "data_full.drop_duplicates(inplace = True)\n",
    "data_full['target'] = (data_full['PTS'] > data_full['thres']).astype(int)"
   ]
  },
  {
   "cell_type": "code",
   "execution_count": 256,
   "metadata": {},
   "outputs": [],
   "source": [
    "data_full['Year'] = data_full['game_id'].str[:4].astype(int)"
   ]
  },
  {
   "cell_type": "code",
   "execution_count": 257,
   "metadata": {},
   "outputs": [],
   "source": [
    "train = data_full.copy()[\n",
    "    (data_full['Year'] > 2014)\n",
    "    & (data_full['Year'] < 2024)\n",
    "]\n",
    "\n",
    "test = data_full.copy()[\n",
    "    data_full['Year'] >= 2024\n",
    "]"
   ]
  },
  {
   "cell_type": "code",
   "execution_count": 258,
   "metadata": {},
   "outputs": [
    {
     "data": {
      "text/html": [
       "<pre style=\"white-space:pre;overflow-x:auto;line-height:normal;font-family:Menlo,'DejaVu Sans Mono',consolas,'Courier New',monospace\"><span style=\"font-weight: bold\">Model: \"functional_7\"</span>\n",
       "</pre>\n"
      ],
      "text/plain": [
       "\u001b[1mModel: \"functional_7\"\u001b[0m\n"
      ]
     },
     "metadata": {},
     "output_type": "display_data"
    },
    {
     "data": {
      "text/html": [
       "<pre style=\"white-space:pre;overflow-x:auto;line-height:normal;font-family:Menlo,'DejaVu Sans Mono',consolas,'Courier New',monospace\">┏━━━━━━━━━━━━━━━━━━━━━━━━━━━━━━━━━┳━━━━━━━━━━━━━━━━━━━━━━━━┳━━━━━━━━━━━━━━━┓\n",
       "┃<span style=\"font-weight: bold\"> Layer (type)                    </span>┃<span style=\"font-weight: bold\"> Output Shape           </span>┃<span style=\"font-weight: bold\">       Param # </span>┃\n",
       "┡━━━━━━━━━━━━━━━━━━━━━━━━━━━━━━━━━╇━━━━━━━━━━━━━━━━━━━━━━━━╇━━━━━━━━━━━━━━━┩\n",
       "│ features (<span style=\"color: #0087ff; text-decoration-color: #0087ff\">InputLayer</span>)           │ (<span style=\"color: #00d7ff; text-decoration-color: #00d7ff\">None</span>, <span style=\"color: #00af00; text-decoration-color: #00af00\">21</span>)             │             <span style=\"color: #00af00; text-decoration-color: #00af00\">0</span> │\n",
       "├─────────────────────────────────┼────────────────────────┼───────────────┤\n",
       "│ dense_10 (<span style=\"color: #0087ff; text-decoration-color: #0087ff\">Dense</span>)                │ (<span style=\"color: #00d7ff; text-decoration-color: #00d7ff\">None</span>, <span style=\"color: #00af00; text-decoration-color: #00af00\">16</span>)             │           <span style=\"color: #00af00; text-decoration-color: #00af00\">352</span> │\n",
       "├─────────────────────────────────┼────────────────────────┼───────────────┤\n",
       "│ dense_11 (<span style=\"color: #0087ff; text-decoration-color: #0087ff\">Dense</span>)                │ (<span style=\"color: #00d7ff; text-decoration-color: #00d7ff\">None</span>, <span style=\"color: #00af00; text-decoration-color: #00af00\">21</span>)             │           <span style=\"color: #00af00; text-decoration-color: #00af00\">357</span> │\n",
       "├─────────────────────────────────┼────────────────────────┼───────────────┤\n",
       "│ dense_12 (<span style=\"color: #0087ff; text-decoration-color: #0087ff\">Dense</span>)                │ (<span style=\"color: #00d7ff; text-decoration-color: #00d7ff\">None</span>, <span style=\"color: #00af00; text-decoration-color: #00af00\">1</span>)              │            <span style=\"color: #00af00; text-decoration-color: #00af00\">22</span> │\n",
       "└─────────────────────────────────┴────────────────────────┴───────────────┘\n",
       "</pre>\n"
      ],
      "text/plain": [
       "┏━━━━━━━━━━━━━━━━━━━━━━━━━━━━━━━━━┳━━━━━━━━━━━━━━━━━━━━━━━━┳━━━━━━━━━━━━━━━┓\n",
       "┃\u001b[1m \u001b[0m\u001b[1mLayer (type)                   \u001b[0m\u001b[1m \u001b[0m┃\u001b[1m \u001b[0m\u001b[1mOutput Shape          \u001b[0m\u001b[1m \u001b[0m┃\u001b[1m \u001b[0m\u001b[1m      Param #\u001b[0m\u001b[1m \u001b[0m┃\n",
       "┡━━━━━━━━━━━━━━━━━━━━━━━━━━━━━━━━━╇━━━━━━━━━━━━━━━━━━━━━━━━╇━━━━━━━━━━━━━━━┩\n",
       "│ features (\u001b[38;5;33mInputLayer\u001b[0m)           │ (\u001b[38;5;45mNone\u001b[0m, \u001b[38;5;34m21\u001b[0m)             │             \u001b[38;5;34m0\u001b[0m │\n",
       "├─────────────────────────────────┼────────────────────────┼───────────────┤\n",
       "│ dense_10 (\u001b[38;5;33mDense\u001b[0m)                │ (\u001b[38;5;45mNone\u001b[0m, \u001b[38;5;34m16\u001b[0m)             │           \u001b[38;5;34m352\u001b[0m │\n",
       "├─────────────────────────────────┼────────────────────────┼───────────────┤\n",
       "│ dense_11 (\u001b[38;5;33mDense\u001b[0m)                │ (\u001b[38;5;45mNone\u001b[0m, \u001b[38;5;34m21\u001b[0m)             │           \u001b[38;5;34m357\u001b[0m │\n",
       "├─────────────────────────────────┼────────────────────────┼───────────────┤\n",
       "│ dense_12 (\u001b[38;5;33mDense\u001b[0m)                │ (\u001b[38;5;45mNone\u001b[0m, \u001b[38;5;34m1\u001b[0m)              │            \u001b[38;5;34m22\u001b[0m │\n",
       "└─────────────────────────────────┴────────────────────────┴───────────────┘\n"
      ]
     },
     "metadata": {},
     "output_type": "display_data"
    },
    {
     "data": {
      "text/html": [
       "<pre style=\"white-space:pre;overflow-x:auto;line-height:normal;font-family:Menlo,'DejaVu Sans Mono',consolas,'Courier New',monospace\"><span style=\"font-weight: bold\"> Total params: </span><span style=\"color: #00af00; text-decoration-color: #00af00\">731</span> (2.86 KB)\n",
       "</pre>\n"
      ],
      "text/plain": [
       "\u001b[1m Total params: \u001b[0m\u001b[38;5;34m731\u001b[0m (2.86 KB)\n"
      ]
     },
     "metadata": {},
     "output_type": "display_data"
    },
    {
     "data": {
      "text/html": [
       "<pre style=\"white-space:pre;overflow-x:auto;line-height:normal;font-family:Menlo,'DejaVu Sans Mono',consolas,'Courier New',monospace\"><span style=\"font-weight: bold\"> Trainable params: </span><span style=\"color: #00af00; text-decoration-color: #00af00\">731</span> (2.86 KB)\n",
       "</pre>\n"
      ],
      "text/plain": [
       "\u001b[1m Trainable params: \u001b[0m\u001b[38;5;34m731\u001b[0m (2.86 KB)\n"
      ]
     },
     "metadata": {},
     "output_type": "display_data"
    },
    {
     "data": {
      "text/html": [
       "<pre style=\"white-space:pre;overflow-x:auto;line-height:normal;font-family:Menlo,'DejaVu Sans Mono',consolas,'Courier New',monospace\"><span style=\"font-weight: bold\"> Non-trainable params: </span><span style=\"color: #00af00; text-decoration-color: #00af00\">0</span> (0.00 B)\n",
       "</pre>\n"
      ],
      "text/plain": [
       "\u001b[1m Non-trainable params: \u001b[0m\u001b[38;5;34m0\u001b[0m (0.00 B)\n"
      ]
     },
     "metadata": {},
     "output_type": "display_data"
    }
   ],
   "source": [
    "import tensorflow as tf\n",
    "from tensorflow.keras import layers, Model\n",
    "\n",
    "n = len(features)\n",
    "k = 5\n",
    "\n",
    "# Define input layers\n",
    "inputs = layers.Input(shape=(n+1,), name=\"features\")  # Input for n features\n",
    "\n",
    "# Classification layers\n",
    "x = layers.Dense(16, activation=\"relu\")(inputs)\n",
    "x = layers.Dense(n+1, activation=\"relu\")(x)\n",
    "output = layers.Dense(1, activation=\"sigmoid\")(x)  # Sigmoid for binary classification\n",
    "\n",
    "# Define the model\n",
    "model = Model(inputs = inputs, outputs = output)\n",
    "\n",
    "# Compile the model\n",
    "model.compile(optimizer = \"adam\", loss = \"binary_crossentropy\", metrics = [\"accuracy\"])\n",
    "\n",
    "# Model summary\n",
    "model.summary()\n"
   ]
  },
  {
   "cell_type": "code",
   "execution_count": 259,
   "metadata": {},
   "outputs": [],
   "source": [
    "X_train = train[features + ['thres']].to_numpy().astype(np.float32)\n",
    "X_test = test[features + ['thres']].to_numpy().astype(np.float32)\n",
    "y_train = train['target'].to_numpy()\n",
    "y_test = test['target'].to_numpy()"
   ]
  },
  {
   "cell_type": "code",
   "execution_count": 260,
   "metadata": {},
   "outputs": [
    {
     "name": "stdout",
     "output_type": "stream",
     "text": [
      "Epoch 1/6\n",
      "\u001b[1m11731/11731\u001b[0m \u001b[32m━━━━━━━━━━━━━━━━━━━━\u001b[0m\u001b[37m\u001b[0m \u001b[1m4s\u001b[0m 349us/step - accuracy: 0.6739 - loss: 0.6524\n",
      "Epoch 2/6\n",
      "\u001b[1m11731/11731\u001b[0m \u001b[32m━━━━━━━━━━━━━━━━━━━━\u001b[0m\u001b[37m\u001b[0m \u001b[1m4s\u001b[0m 380us/step - accuracy: 0.6928 - loss: 0.5800\n",
      "Epoch 3/6\n",
      "\u001b[1m11731/11731\u001b[0m \u001b[32m━━━━━━━━━━━━━━━━━━━━\u001b[0m\u001b[37m\u001b[0m \u001b[1m4s\u001b[0m 337us/step - accuracy: 0.6933 - loss: 0.5787\n",
      "Epoch 4/6\n",
      "\u001b[1m11731/11731\u001b[0m \u001b[32m━━━━━━━━━━━━━━━━━━━━\u001b[0m\u001b[37m\u001b[0m \u001b[1m4s\u001b[0m 331us/step - accuracy: 0.6940 - loss: 0.5780\n",
      "Epoch 5/6\n",
      "\u001b[1m11731/11731\u001b[0m \u001b[32m━━━━━━━━━━━━━━━━━━━━\u001b[0m\u001b[37m\u001b[0m \u001b[1m4s\u001b[0m 331us/step - accuracy: 0.6948 - loss: 0.5775\n",
      "Epoch 6/6\n",
      "\u001b[1m11731/11731\u001b[0m \u001b[32m━━━━━━━━━━━━━━━━━━━━\u001b[0m\u001b[37m\u001b[0m \u001b[1m4s\u001b[0m 345us/step - accuracy: 0.6953 - loss: 0.5769\n"
     ]
    }
   ],
   "source": [
    "history = model.fit(\n",
    "    X_train, y_train,           \n",
    "    epochs = 6,                      \n",
    "    batch_size=128,                                                  \n",
    "    verbose=1                            \n",
    ")"
   ]
  },
  {
   "cell_type": "code",
   "execution_count": 261,
   "metadata": {},
   "outputs": [
    {
     "name": "stdout",
     "output_type": "stream",
     "text": [
      "\u001b[1m5785/5785\u001b[0m \u001b[32m━━━━━━━━━━━━━━━━━━━━\u001b[0m\u001b[37m\u001b[0m \u001b[1m1s\u001b[0m 187us/step\n"
     ]
    }
   ],
   "source": [
    "y_pred = model.predict(X_test)"
   ]
  },
  {
   "cell_type": "code",
   "execution_count": 262,
   "metadata": {},
   "outputs": [],
   "source": [
    "test['pred'] = y_pred"
   ]
  },
  {
   "cell_type": "code",
   "execution_count": 267,
   "metadata": {},
   "outputs": [
    {
     "data": {
      "text/html": [
       "<div>\n",
       "<style scoped>\n",
       "    .dataframe tbody tr th:only-of-type {\n",
       "        vertical-align: middle;\n",
       "    }\n",
       "\n",
       "    .dataframe tbody tr th {\n",
       "        vertical-align: top;\n",
       "    }\n",
       "\n",
       "    .dataframe thead th {\n",
       "        text-align: right;\n",
       "    }\n",
       "</style>\n",
       "<table border=\"1\" class=\"dataframe\">\n",
       "  <thead>\n",
       "    <tr style=\"text-align: right;\">\n",
       "      <th></th>\n",
       "      <th>Player</th>\n",
       "      <th>Year</th>\n",
       "      <th>PTS</th>\n",
       "      <th>PTS_avg</th>\n",
       "      <th>thres</th>\n",
       "      <th>target</th>\n",
       "      <th>pred</th>\n",
       "    </tr>\n",
       "  </thead>\n",
       "  <tbody>\n",
       "    <tr>\n",
       "      <th>1845828</th>\n",
       "      <td>Bojan Bogdanović</td>\n",
       "      <td>2024</td>\n",
       "      <td>9</td>\n",
       "      <td>19.91</td>\n",
       "      <td>38.5</td>\n",
       "      <td>0</td>\n",
       "      <td>0.002745</td>\n",
       "    </tr>\n",
       "    <tr>\n",
       "      <th>1314072</th>\n",
       "      <td>Jaden Hardy</td>\n",
       "      <td>2024</td>\n",
       "      <td>4</td>\n",
       "      <td>8.38</td>\n",
       "      <td>23.5</td>\n",
       "      <td>0</td>\n",
       "      <td>0.003982</td>\n",
       "    </tr>\n",
       "    <tr>\n",
       "      <th>1837063</th>\n",
       "      <td>KJ Martin</td>\n",
       "      <td>2024</td>\n",
       "      <td>0</td>\n",
       "      <td>10.24</td>\n",
       "      <td>20.5</td>\n",
       "      <td>0</td>\n",
       "      <td>0.005010</td>\n",
       "    </tr>\n",
       "    <tr>\n",
       "      <th>2378902</th>\n",
       "      <td>Mason Plumlee</td>\n",
       "      <td>2024</td>\n",
       "      <td>5</td>\n",
       "      <td>9.27</td>\n",
       "      <td>21.5</td>\n",
       "      <td>0</td>\n",
       "      <td>0.006178</td>\n",
       "    </tr>\n",
       "    <tr>\n",
       "      <th>2382774</th>\n",
       "      <td>Bojan Bogdanović</td>\n",
       "      <td>2024</td>\n",
       "      <td>13</td>\n",
       "      <td>18.26</td>\n",
       "      <td>31.5</td>\n",
       "      <td>0</td>\n",
       "      <td>0.007218</td>\n",
       "    </tr>\n",
       "    <tr>\n",
       "      <th>259191</th>\n",
       "      <td>Cole Anthony</td>\n",
       "      <td>2024</td>\n",
       "      <td>2</td>\n",
       "      <td>10.63</td>\n",
       "      <td>22.5</td>\n",
       "      <td>0</td>\n",
       "      <td>0.007364</td>\n",
       "    </tr>\n",
       "    <tr>\n",
       "      <th>2648243</th>\n",
       "      <td>Bojan Bogdanović</td>\n",
       "      <td>2024</td>\n",
       "      <td>14</td>\n",
       "      <td>18.49</td>\n",
       "      <td>29.5</td>\n",
       "      <td>0</td>\n",
       "      <td>0.007491</td>\n",
       "    </tr>\n",
       "    <tr>\n",
       "      <th>1047179</th>\n",
       "      <td>Mason Plumlee</td>\n",
       "      <td>2024</td>\n",
       "      <td>0</td>\n",
       "      <td>9.63</td>\n",
       "      <td>20.5</td>\n",
       "      <td>0</td>\n",
       "      <td>0.007920</td>\n",
       "    </tr>\n",
       "    <tr>\n",
       "      <th>2368389</th>\n",
       "      <td>Brandon Ingram</td>\n",
       "      <td>2024</td>\n",
       "      <td>13</td>\n",
       "      <td>23.38</td>\n",
       "      <td>42.5</td>\n",
       "      <td>0</td>\n",
       "      <td>0.008034</td>\n",
       "    </tr>\n",
       "    <tr>\n",
       "      <th>782032</th>\n",
       "      <td>KJ Martin</td>\n",
       "      <td>2024</td>\n",
       "      <td>11</td>\n",
       "      <td>8.61</td>\n",
       "      <td>19.5</td>\n",
       "      <td>0</td>\n",
       "      <td>0.008323</td>\n",
       "    </tr>\n",
       "    <tr>\n",
       "      <th>2374085</th>\n",
       "      <td>Damian Lillard</td>\n",
       "      <td>2024</td>\n",
       "      <td>24</td>\n",
       "      <td>28.69</td>\n",
       "      <td>46.5</td>\n",
       "      <td>0</td>\n",
       "      <td>0.008453</td>\n",
       "    </tr>\n",
       "    <tr>\n",
       "      <th>243840</th>\n",
       "      <td>Ben Simmons</td>\n",
       "      <td>2024</td>\n",
       "      <td>9</td>\n",
       "      <td>10.59</td>\n",
       "      <td>21.5</td>\n",
       "      <td>0</td>\n",
       "      <td>0.008567</td>\n",
       "    </tr>\n",
       "    <tr>\n",
       "      <th>1050601</th>\n",
       "      <td>Bojan Bogdanović</td>\n",
       "      <td>2024</td>\n",
       "      <td>9</td>\n",
       "      <td>18.76</td>\n",
       "      <td>29.5</td>\n",
       "      <td>0</td>\n",
       "      <td>0.008601</td>\n",
       "    </tr>\n",
       "    <tr>\n",
       "      <th>507617</th>\n",
       "      <td>KJ Martin</td>\n",
       "      <td>2024</td>\n",
       "      <td>4</td>\n",
       "      <td>10.01</td>\n",
       "      <td>17.5</td>\n",
       "      <td>0</td>\n",
       "      <td>0.008881</td>\n",
       "    </tr>\n",
       "    <tr>\n",
       "      <th>1850239</th>\n",
       "      <td>Bojan Bogdanović</td>\n",
       "      <td>2024</td>\n",
       "      <td>9</td>\n",
       "      <td>18.35</td>\n",
       "      <td>31.5</td>\n",
       "      <td>0</td>\n",
       "      <td>0.008894</td>\n",
       "    </tr>\n",
       "    <tr>\n",
       "      <th>512780</th>\n",
       "      <td>Giannis Antetokounmpo</td>\n",
       "      <td>2024</td>\n",
       "      <td>24</td>\n",
       "      <td>30.67</td>\n",
       "      <td>49.5</td>\n",
       "      <td>0</td>\n",
       "      <td>0.008935</td>\n",
       "    </tr>\n",
       "    <tr>\n",
       "      <th>1311551</th>\n",
       "      <td>James Harden</td>\n",
       "      <td>2024</td>\n",
       "      <td>4</td>\n",
       "      <td>19.04</td>\n",
       "      <td>37.5</td>\n",
       "      <td>0</td>\n",
       "      <td>0.009106</td>\n",
       "    </tr>\n",
       "    <tr>\n",
       "      <th>1325917</th>\n",
       "      <td>Jaren Jackson Jr.</td>\n",
       "      <td>2024</td>\n",
       "      <td>27</td>\n",
       "      <td>22.73</td>\n",
       "      <td>43.5</td>\n",
       "      <td>0</td>\n",
       "      <td>0.009238</td>\n",
       "    </tr>\n",
       "    <tr>\n",
       "      <th>241943</th>\n",
       "      <td>DeMar DeRozan</td>\n",
       "      <td>2024</td>\n",
       "      <td>32</td>\n",
       "      <td>23.27</td>\n",
       "      <td>44.5</td>\n",
       "      <td>0</td>\n",
       "      <td>0.009840</td>\n",
       "    </tr>\n",
       "    <tr>\n",
       "      <th>259164</th>\n",
       "      <td>Lauri Markkanen</td>\n",
       "      <td>2024</td>\n",
       "      <td>27</td>\n",
       "      <td>24.38</td>\n",
       "      <td>41.5</td>\n",
       "      <td>0</td>\n",
       "      <td>0.009915</td>\n",
       "    </tr>\n",
       "  </tbody>\n",
       "</table>\n",
       "</div>"
      ],
      "text/plain": [
       "                        Player  Year PTS PTS_avg  thres  target      pred\n",
       "1845828       Bojan Bogdanović  2024   9   19.91   38.5       0  0.002745\n",
       "1314072            Jaden Hardy  2024   4    8.38   23.5       0  0.003982\n",
       "1837063              KJ Martin  2024   0   10.24   20.5       0  0.005010\n",
       "2378902          Mason Plumlee  2024   5    9.27   21.5       0  0.006178\n",
       "2382774       Bojan Bogdanović  2024  13   18.26   31.5       0  0.007218\n",
       "259191            Cole Anthony  2024   2   10.63   22.5       0  0.007364\n",
       "2648243       Bojan Bogdanović  2024  14   18.49   29.5       0  0.007491\n",
       "1047179          Mason Plumlee  2024   0    9.63   20.5       0  0.007920\n",
       "2368389         Brandon Ingram  2024  13   23.38   42.5       0  0.008034\n",
       "782032               KJ Martin  2024  11    8.61   19.5       0  0.008323\n",
       "2374085         Damian Lillard  2024  24   28.69   46.5       0  0.008453\n",
       "243840             Ben Simmons  2024   9   10.59   21.5       0  0.008567\n",
       "1050601       Bojan Bogdanović  2024   9   18.76   29.5       0  0.008601\n",
       "507617               KJ Martin  2024   4   10.01   17.5       0  0.008881\n",
       "1850239       Bojan Bogdanović  2024   9   18.35   31.5       0  0.008894\n",
       "512780   Giannis Antetokounmpo  2024  24   30.67   49.5       0  0.008935\n",
       "1311551           James Harden  2024   4   19.04   37.5       0  0.009106\n",
       "1325917      Jaren Jackson Jr.  2024  27   22.73   43.5       0  0.009238\n",
       "241943           DeMar DeRozan  2024  32   23.27   44.5       0  0.009840\n",
       "259164         Lauri Markkanen  2024  27   24.38   41.5       0  0.009915"
      ]
     },
     "execution_count": 267,
     "metadata": {},
     "output_type": "execute_result"
    }
   ],
   "source": [
    "test.sort_values(['game_id', 'player_id', 'thres'])[['Player', 'Year', 'PTS', 'PTS_avg', 'thres', 'target', 'pred']].sort_values('pred').head(20)"
   ]
  },
  {
   "cell_type": "code",
   "execution_count": 264,
   "metadata": {},
   "outputs": [],
   "source": [
    "thres = np.arange(0.5, 40.5)\n",
    "X = np.tile(data_full[features].mean(axis = 0).to_numpy().reshape(1, -1), (len(thres), 1))\n",
    "X = np.hstack((X, thres.reshape(-1, 1))).astype(np.float32)"
   ]
  },
  {
   "cell_type": "code",
   "execution_count": 266,
   "metadata": {},
   "outputs": [
    {
     "name": "stdout",
     "output_type": "stream",
     "text": [
      "\u001b[1m2/2\u001b[0m \u001b[32m━━━━━━━━━━━━━━━━━━━━\u001b[0m\u001b[37m\u001b[0m \u001b[1m0s\u001b[0m 7ms/step\n"
     ]
    },
    {
     "data": {
      "text/plain": [
       "[<matplotlib.lines.Line2D at 0x6e74a2f70>]"
      ]
     },
     "execution_count": 266,
     "metadata": {},
     "output_type": "execute_result"
    },
    {
     "data": {
      "image/png": "[encoded data removed]",
      "text/plain": [
       "<Figure size 640x480 with 1 Axes>"
      ]
     },
     "metadata": {},
     "output_type": "display_data"
    }
   ],
   "source": [
    "plt.plot(thres, model.predict(X), 'k-o')"
   ]
  },
  {
   "cell_type": "code",
   "execution_count": null,
   "metadata": {},
   "outputs": [],
   "source": []
  }
 ],
 "metadata": {
  "kernelspec": {
   "display_name": "penv",
   "language": "python",
   "name": "python3"
  },
  "language_info": {
   "codemirror_mode": {
    "name": "ipython",
    "version": 3
   },
   "file_extension": ".py",
   "mimetype": "text/x-python",
   "name": "python",
   "nbconvert_exporter": "python",
   "pygments_lexer": "ipython3",
   "version": "3.9.20"
  }
 },
 "nbformat": 4,
 "nbformat_minor": 2
}
