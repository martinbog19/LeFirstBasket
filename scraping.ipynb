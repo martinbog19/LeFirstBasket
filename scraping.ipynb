{
 "cells": [
  {
   "cell_type": "code",
   "execution_count": 8,
   "metadata": {},
   "outputs": [],
   "source": [
    "import pandas as pd\n",
    "import numpy as np\n",
    "import requests\n",
    "from bs4 import BeautifulSoup\n",
    "import os\n",
    "import calendar"
   ]
  },
  {
   "cell_type": "code",
   "execution_count": 2,
   "metadata": {},
   "outputs": [],
   "source": [
    "months = list(calendar.month_name)[1:]\n",
    "\n",
    "def getId(tag) :\n",
    "    return tag['href'].split('/')[-1].split('.html')[0]"
   ]
  },
  {
   "cell_type": "code",
   "execution_count": 3,
   "metadata": {},
   "outputs": [],
   "source": [
    "url = 'https://www.basketball-reference.com/leagues/NBA_2021_games.html'\n",
    "page = requests.get(url)\n",
    "soup = BeautifulSoup(page.content, 'lxml')"
   ]
  },
  {
   "cell_type": "code",
   "execution_count": 6,
   "metadata": {},
   "outputs": [],
   "source": [
    "month_urls = [x['href'] for x in soup.find_all('a', href = True) if 'games' in x['href'] \n",
    "                and any(m.lower() in x['href'] for m in months)]"
   ]
  },
  {
   "cell_type": "code",
   "execution_count": 41,
   "metadata": {},
   "outputs": [],
   "source": [
    "def get_monthly_games(month_url) :\n",
    "\n",
    "    url = f'https://www.basketball-reference.com/{month_url}'\n",
    "    page = requests.get(url)\n",
    "    soup = BeautifulSoup(page.content, 'lxml')\n",
    "    table = soup.find('table')\n",
    "    games = pd.read_html(str(table))[0].rename(columns = {'Start (ET)': 'Time'})\n",
    "    games['Date'] = pd.to_datetime(games['Date'])\n",
    "    games['Home'] = [x['href'].split('/')[2] for x in table.find_all('a', href = True) if 'teams' in x['href']][0::2]\n",
    "    games['Away'] = [x['href'].split('/')[2] for x in table.find_all('a', href = True) if 'teams' in x['href']][1::2]\n",
    "    games['game_id'] = [getId(x) for x in table.find_all('a', href = True) if 'boxscores' in x['href']][1::2]\n",
    "\n",
    "    return games[['game_id', 'Date', 'Time', 'Home', 'Away']]"
   ]
  },
  {
   "cell_type": "code",
   "execution_count": 43,
   "metadata": {},
   "outputs": [],
   "source": [
    "games_monthly = get_monthly_games(month_urls[0])"
   ]
  },
  {
   "cell_type": "code",
   "execution_count": 48,
   "metadata": {},
   "outputs": [],
   "source": [
    "for gameId, home, away in zip(games_monthly['game_id'], games_monthly['Home'], games_monthly['Away'])  :\n",
    "    pass"
   ]
  },
  {
   "cell_type": "code",
   "execution_count": 109,
   "metadata": {},
   "outputs": [],
   "source": [
    "def get_first_basket(gameId) :\n",
    "    \n",
    "    url = f'https://www.basketball-reference.com/boxscores/pbp/{gameId}.html'\n",
    "    page = requests.get(url)\n",
    "    soup = BeautifulSoup(page.content, 'lxml')\n",
    "    away, home = [x['href'].split('/')[2] for x in soup.find_all('a', href = True) if 'teams' in x['href']][1:3]\n",
    "    table = soup.find('table')\n",
    "    table.find('tr', class_ = 'thead').decompose()\n",
    "    pbp = pd.read_html(str(table))[0]\n",
    "    cols_ = pbp.columns.to_list()\n",
    "    cols_[1] = away\n",
    "    cols_[5] = home\n",
    "    pbp.columns = cols_\n",
    "    pbp['pts_scored'] = pbp['Score'].apply(lambda x: np.array(x.split('-')).astype(int).sum()\n",
    "                        if '-' in x\n",
    "                        else np.nan)\n",
    "\n",
    "    n_actions_before_pts = (pbp['pts_scored'] > 0).argmax() + 1\n",
    "\n",
    "    # Keep rows until first points scored -- excluding jump ball\n",
    "    pbp = pbp.head(n_actions_before_pts)[1:]\n",
    "\n",
    "    # Store player involved\n",
    "    rows = table.find_all('tr')\n",
    "    pbp['player'] = [getId(row.find_all('a', href = True)[0]) if row.find('a', href = True) else ''\n",
    "                 for row in rows[2:n_actions_before_pts+1]]\n",
    "    \n",
    "    # Check if miss or make or neither\n",
    "    pbp = pbp.fillna('')\n",
    "    pbp['home_miss'] = pbp[home].apply(lambda x: 'misses' in x).astype(int)\n",
    "    pbp['away_miss'] = pbp[away].apply(lambda x: 'misses' in x).astype(int)\n",
    "    pbp['home_make'] = pbp[home].apply(lambda x: 'makes' in x).astype(int)\n",
    "    pbp['away_make'] = pbp[away].apply(lambda x: 'makes' in x).astype(int)\n",
    "    pbp['shot'] = pbp[['home_miss', 'away_miss', 'home_make', 'away_make']].sum(axis = 1)\n",
    "    pbp = pbp.copy()[pbp['shot'] == 1]\n",
    "\n",
    "\n",
    "    # Store jump ball information\n",
    "    if rows[1].find('a', href = True) :\n",
    "        jb_away, jb_home, jb_poss = [getId(x) for x in rows[1].find_all('a', href = True)]\n",
    "    else :\n",
    "        jb_away, jb_home, jb_poss = None, None, None\n",
    "\n",
    "    # First basket information\n",
    "    min, sec = np.array(pbp['Time'].values[-1].split(':')).astype(float)\n",
    "    time_elapsed = 60 * (12 - min - 1) + (60 - sec)\n",
    "    pts_scored = pbp['pts_scored'].values[-1]\n",
    "    num_shots = pbp.shape[0]\n",
    "    home_misses = pbp['home_miss'].sum()\n",
    "    away_misses = pbp['away_miss'].sum()\n",
    "    first_basket_tm = home * pbp['home_make'].values[-1] + away * pbp['away_make'].values[-1]\n",
    "    first_basket = pbp['player'].values[-1]\n",
    "\n",
    "    return pd.DataFrame(\n",
    "                [[gameId, home, away, first_basket, first_basket_tm, time_elapsed, num_shots, pts_scored, home_misses, away_misses,\n",
    "                  jb_home, jb_away, jb_poss]],\n",
    "                columns = [\n",
    "                    'game_id',\n",
    "                    'Home',\n",
    "                    'Away',\n",
    "                    'first_basket',\n",
    "                    'first_basket_tm',\n",
    "                    'time_elapsed',\n",
    "                    'num_shots',\n",
    "                    'pts_scored',\n",
    "                    'misses_home',\n",
    "                    'misses_away',\n",
    "                    'jumpball_home',\n",
    "                    'jumpball_away',\n",
    "                    'jumpball_possession'\n",
    "                ]\n",
    "            )"
   ]
  },
  {
   "cell_type": "code",
   "execution_count": 111,
   "metadata": {},
   "outputs": [
    {
     "ename": "ValueError",
     "evalue": "not enough values to unpack (expected 3, got 0)",
     "output_type": "error",
     "traceback": [
      "\u001b[0;31m---------------------------------------------------------------------------\u001b[0m",
      "\u001b[0;31mValueError\u001b[0m                                Traceback (most recent call last)",
      "Cell \u001b[0;32mIn[111], line 1\u001b[0m\n\u001b[0;32m----> 1\u001b[0m \u001b[43mget_first_basket\u001b[49m\u001b[43m(\u001b[49m\u001b[38;5;124;43m'\u001b[39;49m\u001b[38;5;124;43m202012230ORL\u001b[39;49m\u001b[38;5;124;43m'\u001b[39;49m\u001b[43m)\u001b[49m\n",
      "Cell \u001b[0;32mIn[109], line 39\u001b[0m, in \u001b[0;36mget_first_basket\u001b[0;34m(gameId)\u001b[0m\n\u001b[1;32m     35\u001b[0m pbp \u001b[38;5;241m=\u001b[39m pbp\u001b[38;5;241m.\u001b[39mcopy()[pbp[\u001b[38;5;124m'\u001b[39m\u001b[38;5;124mshot\u001b[39m\u001b[38;5;124m'\u001b[39m] \u001b[38;5;241m==\u001b[39m \u001b[38;5;241m1\u001b[39m]\n\u001b[1;32m     38\u001b[0m \u001b[38;5;66;03m# Store jump ball information\u001b[39;00m\n\u001b[0;32m---> 39\u001b[0m jb_away, jb_home, poss \u001b[38;5;241m=\u001b[39m [getId(x) \u001b[38;5;28;01mfor\u001b[39;00m x \u001b[38;5;129;01min\u001b[39;00m rows[\u001b[38;5;241m1\u001b[39m]\u001b[38;5;241m.\u001b[39mfind_all(\u001b[38;5;124m'\u001b[39m\u001b[38;5;124ma\u001b[39m\u001b[38;5;124m'\u001b[39m, href \u001b[38;5;241m=\u001b[39m \u001b[38;5;28;01mTrue\u001b[39;00m)]\n\u001b[1;32m     41\u001b[0m \u001b[38;5;66;03m# First basket information\u001b[39;00m\n\u001b[1;32m     42\u001b[0m \u001b[38;5;28mmin\u001b[39m, sec \u001b[38;5;241m=\u001b[39m np\u001b[38;5;241m.\u001b[39marray(pbp[\u001b[38;5;124m'\u001b[39m\u001b[38;5;124mTime\u001b[39m\u001b[38;5;124m'\u001b[39m]\u001b[38;5;241m.\u001b[39mvalues[\u001b[38;5;241m-\u001b[39m\u001b[38;5;241m1\u001b[39m]\u001b[38;5;241m.\u001b[39msplit(\u001b[38;5;124m'\u001b[39m\u001b[38;5;124m:\u001b[39m\u001b[38;5;124m'\u001b[39m))\u001b[38;5;241m.\u001b[39mastype(\u001b[38;5;28mfloat\u001b[39m)\n",
      "\u001b[0;31mValueError\u001b[0m: not enough values to unpack (expected 3, got 0)"
     ]
    }
   ],
   "source": [
    "get_first_basket('202012230ORL')"
   ]
  },
  {
   "cell_type": "code",
   "execution_count": 115,
   "metadata": {},
   "outputs": [],
   "source": [
    "rows[1].find('a', href = True)"
   ]
  },
  {
   "cell_type": "code",
   "execution_count": 114,
   "metadata": {},
   "outputs": [
    {
     "ename": "ValueError",
     "evalue": "not enough values to unpack (expected 3, got 0)",
     "output_type": "error",
     "traceback": [
      "\u001b[0;31m---------------------------------------------------------------------------\u001b[0m",
      "\u001b[0;31mValueError\u001b[0m                                Traceback (most recent call last)",
      "Cell \u001b[0;32mIn[114], line 39\u001b[0m\n\u001b[1;32m     35\u001b[0m pbp \u001b[38;5;241m=\u001b[39m pbp\u001b[38;5;241m.\u001b[39mcopy()[pbp[\u001b[38;5;124m'\u001b[39m\u001b[38;5;124mshot\u001b[39m\u001b[38;5;124m'\u001b[39m] \u001b[38;5;241m==\u001b[39m \u001b[38;5;241m1\u001b[39m]\n\u001b[1;32m     38\u001b[0m \u001b[38;5;66;03m# Store jump ball information\u001b[39;00m\n\u001b[0;32m---> 39\u001b[0m jb_away, jb_home, poss \u001b[38;5;241m=\u001b[39m [getId(x) \u001b[38;5;28;01mfor\u001b[39;00m x \u001b[38;5;129;01min\u001b[39;00m rows[\u001b[38;5;241m1\u001b[39m]\u001b[38;5;241m.\u001b[39mfind_all(\u001b[38;5;124m'\u001b[39m\u001b[38;5;124ma\u001b[39m\u001b[38;5;124m'\u001b[39m, href \u001b[38;5;241m=\u001b[39m \u001b[38;5;28;01mTrue\u001b[39;00m)]\n\u001b[1;32m     41\u001b[0m \u001b[38;5;66;03m# First basket information\u001b[39;00m\n\u001b[1;32m     42\u001b[0m \u001b[38;5;28mmin\u001b[39m, sec \u001b[38;5;241m=\u001b[39m np\u001b[38;5;241m.\u001b[39marray(pbp[\u001b[38;5;124m'\u001b[39m\u001b[38;5;124mTime\u001b[39m\u001b[38;5;124m'\u001b[39m]\u001b[38;5;241m.\u001b[39mvalues[\u001b[38;5;241m-\u001b[39m\u001b[38;5;241m1\u001b[39m]\u001b[38;5;241m.\u001b[39msplit(\u001b[38;5;124m'\u001b[39m\u001b[38;5;124m:\u001b[39m\u001b[38;5;124m'\u001b[39m))\u001b[38;5;241m.\u001b[39mastype(\u001b[38;5;28mfloat\u001b[39m)\n",
      "\u001b[0;31mValueError\u001b[0m: not enough values to unpack (expected 3, got 0)"
     ]
    }
   ],
   "source": [
    "gameId = '202012230ORL'\n",
    "\n",
    "url = f'https://www.basketball-reference.com/boxscores/pbp/{gameId}.html'\n",
    "page = requests.get(url)\n",
    "soup = BeautifulSoup(page.content, 'lxml')\n",
    "away, home = [x['href'].split('/')[2] for x in soup.find_all('a', href = True) if 'teams' in x['href']][1:3]\n",
    "table = soup.find('table')\n",
    "table.find('tr', class_ = 'thead').decompose()\n",
    "pbp = pd.read_html(str(table))[0]\n",
    "cols_ = pbp.columns.to_list()\n",
    "cols_[1] = away\n",
    "cols_[5] = home\n",
    "pbp.columns = cols_\n",
    "pbp['pts_scored'] = pbp['Score'].apply(lambda x: np.array(x.split('-')).astype(int).sum()\n",
    "                    if '-' in x\n",
    "                    else np.nan)\n",
    "\n",
    "n_actions_before_pts = (pbp['pts_scored'] > 0).argmax() + 1\n",
    "\n",
    "# Keep rows until first points scored -- excluding jump ball\n",
    "pbp = pbp.head(n_actions_before_pts)[1:]\n",
    "\n",
    "# Store player involved\n",
    "rows = table.find_all('tr')\n",
    "pbp['player'] = [getId(row.find_all('a', href = True)[0]) if row.find('a', href = True) else ''\n",
    "                 for row in rows[2:n_actions_before_pts+1]]\n",
    "\n",
    "# Check if miss or make or neither\n",
    "pbp = pbp.fillna('')\n",
    "pbp['home_miss'] = pbp[home].apply(lambda x: 'misses' in x).astype(int)\n",
    "pbp['away_miss'] = pbp[away].apply(lambda x: 'misses' in x).astype(int)\n",
    "pbp['home_make'] = pbp[home].apply(lambda x: 'makes' in x).astype(int)\n",
    "pbp['away_make'] = pbp[away].apply(lambda x: 'makes' in x).astype(int)\n",
    "pbp['shot'] = pbp[['home_miss', 'away_miss', 'home_make', 'away_make']].sum(axis = 1)\n",
    "pbp = pbp.copy()[pbp['shot'] == 1]\n",
    "\n",
    "\n",
    "# Store jump ball information\n",
    "jb_away, jb_home, poss = [getId(x) for x in rows[1].find_all('a', href = True)]\n",
    "\n",
    "# First basket information\n",
    "min, sec = np.array(pbp['Time'].values[-1].split(':')).astype(float)\n",
    "time_elapsed = 60 * (12 - min - 1) + (60 - sec)\n",
    "pts_scored = pbp['pts_scored'].values[-1]\n",
    "num_shots = pbp.shape[0]\n",
    "home_misses = pbp['home_miss'].sum()\n",
    "away_misses = pbp['away_miss'].sum()\n",
    "first_basket_tm = home * pbp['home_make'].values[-1] + away * pbp['away_make'].values[-1]\n",
    "first_basket = pbp['player'].values[-1]"
   ]
  },
  {
   "cell_type": "code",
   "execution_count": null,
   "metadata": {},
   "outputs": [],
   "source": []
  }
 ],
 "metadata": {
  "kernelspec": {
   "display_name": "nbaenv",
   "language": "python",
   "name": "python3"
  },
  "language_info": {
   "codemirror_mode": {
    "name": "ipython",
    "version": 3
   },
   "file_extension": ".py",
   "mimetype": "text/x-python",
   "name": "python",
   "nbconvert_exporter": "python",
   "pygments_lexer": "ipython3",
   "version": "3.10.15"
  }
 },
 "nbformat": 4,
 "nbformat_minor": 2
}
