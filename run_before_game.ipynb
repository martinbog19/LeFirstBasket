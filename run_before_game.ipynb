{
 "cells": [
  {
   "cell_type": "code",
   "execution_count": 10,
   "metadata": {},
   "outputs": [],
   "source": [
    "import pandas as pd\n",
    "from datetime import datetime, timedelta, timezone\n",
    "from zoneinfo import ZoneInfo"
   ]
  },
  {
   "cell_type": "code",
   "execution_count": 14,
   "metadata": {},
   "outputs": [
    {
     "name": "stderr",
     "output_type": "stream",
     "text": [
      "/var/folders/yb/vy0d2g3s36j5mzjxqc1kwwpw0000gr/T/ipykernel_15855/2991714655.py:18: FutureWarning: Passing literal html to 'read_html' is deprecated and will be removed in a future version. To read from a literal string, wrap it in a 'StringIO' object.\n",
      "  games = pd.read_html(str(table))[0].rename(columns = {'Start (ET)': 'Time'})\n"
     ]
    }
   ],
   "source": [
    "import requests\n",
    "from bs4 import BeautifulSoup\n",
    "import pytz\n",
    "import os\n",
    "import json\n",
    "\n",
    "season = 2025\n",
    "today = datetime.now(ZoneInfo('America/New_York')) + timedelta(days = 1)\n",
    "tmrw_utc = (today + timedelta(days = 1)).astimezone(pytz.utc)\n",
    "\n",
    "\n",
    "url = f'https://www.basketball-reference.com/leagues/NBA_{season}_games-{today.strftime(\"%B\").lower()}.html'\n",
    "page = requests.get(url)\n",
    "soup = BeautifulSoup(page.content, 'lxml')\n",
    "table = soup.find('table')\n",
    "while table.find_all('tr', class_ = 'thead') :\n",
    "    table.find('tr', class_ = 'thead').decompose()\n",
    "games = pd.read_html(str(table))[0].rename(columns = {'Start (ET)': 'Time'})\n",
    "games['Home'] = [x['href'].split('/')[2] for x in table.find_all('a', href = True) if 'teams' in x['href']][1::2]\n",
    "games['Away'] = [x['href'].split('/')[2] for x in table.find_all('a', href = True) if 'teams' in x['href']][0::2]\n",
    "games['Date'] = pd.to_datetime(games['Date'])\n",
    "games = games[pd.to_datetime(games['Date']) == pd.to_datetime(today.date())].reset_index(drop = True)\n",
    "games['Time'] = (games['Date'].astype(str) + ' ' +  games['Time']).apply(lambda x: datetime.strptime(x.upper() + 'M', \"%Y-%m-%d %I:%M%p\"))\n",
    "games['game_id'] = games['Date'].apply(lambda x: datetime.strftime(x, \"%Y%m%d\")) + '0' + games['Home']\n",
    "games = games[['game_id', 'Date', 'Time', 'Home', 'Away']]"
   ]
  },
  {
   "cell_type": "code",
   "execution_count": 15,
   "metadata": {},
   "outputs": [],
   "source": [
    "if os.getenv(\"GITHUB_ACTIONS\") == \"true\" :\n",
    "  api_key = os.getenv('ODDS_API_KEY')\n",
    "else :\n",
    "  with open('secrets/odds_api_key.txt') as f:\n",
    "    api_key = f.read()\n",
    "\n",
    "with open('utils/odds_tm_map.json', 'r') as f :\n",
    "  odds_tm_map = json.load(f)\n",
    "\n",
    "events_response = requests.get(f'https://api.the-odds-api.com/v4/sports/basketball_nba/events',\n",
    "                               params = {'apiKey': api_key,\n",
    "                                         'commenceTimeTo': tmrw_utc.strftime('%Y-%m-%dT%H:%M:%SZ')})\n",
    "\n",
    "\n",
    "assert events_response.status_code == 200, f'Odds API query not successful {events_response.status_code}'\n",
    "\n",
    "# Map odds API event_id to game_id\n",
    "odds = pd.DataFrame(events_response.json()).rename(columns = {'id': 'event_id'})\n",
    "odds['game_id'] = today.strftime('%Y%m%d') + '0' + odds['home_team'].map(odds_tm_map)\n",
    "\n",
    "games = games.merge(\n",
    "    odds[['game_id', 'event_id']],\n",
    "    on = 'game_id',\n",
    "    how = 'left'\n",
    ")\n",
    "\n",
    "games['insert_timestamp_utc'] = datetime.now(timezone.utc)"
   ]
  },
  {
   "cell_type": "code",
   "execution_count": null,
   "metadata": {},
   "outputs": [],
   "source": []
  },
  {
   "cell_type": "code",
   "execution_count": null,
   "metadata": {},
   "outputs": [],
   "source": []
  },
  {
   "cell_type": "code",
   "execution_count": null,
   "metadata": {},
   "outputs": [],
   "source": []
  },
  {
   "cell_type": "code",
   "execution_count": null,
   "metadata": {},
   "outputs": [
    {
     "ename": "ValueError",
     "evalue": "No objects to concatenate",
     "output_type": "error",
     "traceback": [
      "\u001b[0;31m---------------------------------------------------------------------------\u001b[0m",
      "\u001b[0;31mValueError\u001b[0m                                Traceback (most recent call last)",
      "Cell \u001b[0;32mIn[66], line 32\u001b[0m\n\u001b[1;32m     24\u001b[0m     bm_df[\u001b[38;5;124m'\u001b[39m\u001b[38;5;124mupdate_time\u001b[39m\u001b[38;5;124m'\u001b[39m] \u001b[38;5;241m=\u001b[39m bookmaker[\u001b[38;5;124m'\u001b[39m\u001b[38;5;124mmarkets\u001b[39m\u001b[38;5;124m'\u001b[39m][\u001b[38;5;241m0\u001b[39m][\u001b[38;5;124m'\u001b[39m\u001b[38;5;124mlast_update\u001b[39m\u001b[38;5;124m'\u001b[39m]\n\u001b[1;32m     26\u001b[0m     bm_dfs\u001b[38;5;241m.\u001b[39mappend(\n\u001b[1;32m     27\u001b[0m         bm_df\n\u001b[1;32m     28\u001b[0m         \u001b[38;5;241m.\u001b[39mdrop(columns \u001b[38;5;241m=\u001b[39m \u001b[38;5;124m'\u001b[39m\u001b[38;5;124mname\u001b[39m\u001b[38;5;124m'\u001b[39m)\n\u001b[1;32m     29\u001b[0m         \u001b[38;5;241m.\u001b[39mrename(columns \u001b[38;5;241m=\u001b[39m {\u001b[38;5;124m'\u001b[39m\u001b[38;5;124mdescription\u001b[39m\u001b[38;5;124m'\u001b[39m: \u001b[38;5;124m'\u001b[39m\u001b[38;5;124mname\u001b[39m\u001b[38;5;124m'\u001b[39m})\n\u001b[1;32m     30\u001b[0m     )\n\u001b[0;32m---> 32\u001b[0m game_df \u001b[38;5;241m=\u001b[39m \u001b[43mpd\u001b[49m\u001b[38;5;241;43m.\u001b[39;49m\u001b[43mconcat\u001b[49m\u001b[43m(\u001b[49m\u001b[43mbm_dfs\u001b[49m\u001b[43m)\u001b[49m\u001b[38;5;241m.\u001b[39mreset_index(drop \u001b[38;5;241m=\u001b[39m \u001b[38;5;28;01mTrue\u001b[39;00m)\n\u001b[1;32m     33\u001b[0m game_df[\u001b[38;5;124m'\u001b[39m\u001b[38;5;124mgame_id\u001b[39m\u001b[38;5;124m'\u001b[39m] \u001b[38;5;241m=\u001b[39m game[\u001b[38;5;124m'\u001b[39m\u001b[38;5;124mgame_id\u001b[39m\u001b[38;5;124m'\u001b[39m]\n\u001b[1;32m     34\u001b[0m game_df[\u001b[38;5;124m'\u001b[39m\u001b[38;5;124mevent_id\u001b[39m\u001b[38;5;124m'\u001b[39m] \u001b[38;5;241m=\u001b[39m game[\u001b[38;5;124m'\u001b[39m\u001b[38;5;124mevent_id\u001b[39m\u001b[38;5;124m'\u001b[39m]\n",
      "File \u001b[0;32m/opt/anaconda3/envs/penv/lib/python3.9/site-packages/pandas/core/reshape/concat.py:382\u001b[0m, in \u001b[0;36mconcat\u001b[0;34m(objs, axis, join, ignore_index, keys, levels, names, verify_integrity, sort, copy)\u001b[0m\n\u001b[1;32m    379\u001b[0m \u001b[38;5;28;01melif\u001b[39;00m copy \u001b[38;5;129;01mand\u001b[39;00m using_copy_on_write():\n\u001b[1;32m    380\u001b[0m     copy \u001b[38;5;241m=\u001b[39m \u001b[38;5;28;01mFalse\u001b[39;00m\n\u001b[0;32m--> 382\u001b[0m op \u001b[38;5;241m=\u001b[39m \u001b[43m_Concatenator\u001b[49m\u001b[43m(\u001b[49m\n\u001b[1;32m    383\u001b[0m \u001b[43m    \u001b[49m\u001b[43mobjs\u001b[49m\u001b[43m,\u001b[49m\n\u001b[1;32m    384\u001b[0m \u001b[43m    \u001b[49m\u001b[43maxis\u001b[49m\u001b[38;5;241;43m=\u001b[39;49m\u001b[43maxis\u001b[49m\u001b[43m,\u001b[49m\n\u001b[1;32m    385\u001b[0m \u001b[43m    \u001b[49m\u001b[43mignore_index\u001b[49m\u001b[38;5;241;43m=\u001b[39;49m\u001b[43mignore_index\u001b[49m\u001b[43m,\u001b[49m\n\u001b[1;32m    386\u001b[0m \u001b[43m    \u001b[49m\u001b[43mjoin\u001b[49m\u001b[38;5;241;43m=\u001b[39;49m\u001b[43mjoin\u001b[49m\u001b[43m,\u001b[49m\n\u001b[1;32m    387\u001b[0m \u001b[43m    \u001b[49m\u001b[43mkeys\u001b[49m\u001b[38;5;241;43m=\u001b[39;49m\u001b[43mkeys\u001b[49m\u001b[43m,\u001b[49m\n\u001b[1;32m    388\u001b[0m \u001b[43m    \u001b[49m\u001b[43mlevels\u001b[49m\u001b[38;5;241;43m=\u001b[39;49m\u001b[43mlevels\u001b[49m\u001b[43m,\u001b[49m\n\u001b[1;32m    389\u001b[0m \u001b[43m    \u001b[49m\u001b[43mnames\u001b[49m\u001b[38;5;241;43m=\u001b[39;49m\u001b[43mnames\u001b[49m\u001b[43m,\u001b[49m\n\u001b[1;32m    390\u001b[0m \u001b[43m    \u001b[49m\u001b[43mverify_integrity\u001b[49m\u001b[38;5;241;43m=\u001b[39;49m\u001b[43mverify_integrity\u001b[49m\u001b[43m,\u001b[49m\n\u001b[1;32m    391\u001b[0m \u001b[43m    \u001b[49m\u001b[43mcopy\u001b[49m\u001b[38;5;241;43m=\u001b[39;49m\u001b[43mcopy\u001b[49m\u001b[43m,\u001b[49m\n\u001b[1;32m    392\u001b[0m \u001b[43m    \u001b[49m\u001b[43msort\u001b[49m\u001b[38;5;241;43m=\u001b[39;49m\u001b[43msort\u001b[49m\u001b[43m,\u001b[49m\n\u001b[1;32m    393\u001b[0m \u001b[43m\u001b[49m\u001b[43m)\u001b[49m\n\u001b[1;32m    395\u001b[0m \u001b[38;5;28;01mreturn\u001b[39;00m op\u001b[38;5;241m.\u001b[39mget_result()\n",
      "File \u001b[0;32m/opt/anaconda3/envs/penv/lib/python3.9/site-packages/pandas/core/reshape/concat.py:445\u001b[0m, in \u001b[0;36m_Concatenator.__init__\u001b[0;34m(self, objs, axis, join, keys, levels, names, ignore_index, verify_integrity, copy, sort)\u001b[0m\n\u001b[1;32m    442\u001b[0m \u001b[38;5;28mself\u001b[39m\u001b[38;5;241m.\u001b[39mverify_integrity \u001b[38;5;241m=\u001b[39m verify_integrity\n\u001b[1;32m    443\u001b[0m \u001b[38;5;28mself\u001b[39m\u001b[38;5;241m.\u001b[39mcopy \u001b[38;5;241m=\u001b[39m copy\n\u001b[0;32m--> 445\u001b[0m objs, keys \u001b[38;5;241m=\u001b[39m \u001b[38;5;28;43mself\u001b[39;49m\u001b[38;5;241;43m.\u001b[39;49m\u001b[43m_clean_keys_and_objs\u001b[49m\u001b[43m(\u001b[49m\u001b[43mobjs\u001b[49m\u001b[43m,\u001b[49m\u001b[43m \u001b[49m\u001b[43mkeys\u001b[49m\u001b[43m)\u001b[49m\n\u001b[1;32m    447\u001b[0m \u001b[38;5;66;03m# figure out what our result ndim is going to be\u001b[39;00m\n\u001b[1;32m    448\u001b[0m ndims \u001b[38;5;241m=\u001b[39m \u001b[38;5;28mself\u001b[39m\u001b[38;5;241m.\u001b[39m_get_ndims(objs)\n",
      "File \u001b[0;32m/opt/anaconda3/envs/penv/lib/python3.9/site-packages/pandas/core/reshape/concat.py:507\u001b[0m, in \u001b[0;36m_Concatenator._clean_keys_and_objs\u001b[0;34m(self, objs, keys)\u001b[0m\n\u001b[1;32m    504\u001b[0m     objs_list \u001b[38;5;241m=\u001b[39m \u001b[38;5;28mlist\u001b[39m(objs)\n\u001b[1;32m    506\u001b[0m \u001b[38;5;28;01mif\u001b[39;00m \u001b[38;5;28mlen\u001b[39m(objs_list) \u001b[38;5;241m==\u001b[39m \u001b[38;5;241m0\u001b[39m:\n\u001b[0;32m--> 507\u001b[0m     \u001b[38;5;28;01mraise\u001b[39;00m \u001b[38;5;167;01mValueError\u001b[39;00m(\u001b[38;5;124m\"\u001b[39m\u001b[38;5;124mNo objects to concatenate\u001b[39m\u001b[38;5;124m\"\u001b[39m)\n\u001b[1;32m    509\u001b[0m \u001b[38;5;28;01mif\u001b[39;00m keys \u001b[38;5;129;01mis\u001b[39;00m \u001b[38;5;28;01mNone\u001b[39;00m:\n\u001b[1;32m    510\u001b[0m     objs_list \u001b[38;5;241m=\u001b[39m \u001b[38;5;28mlist\u001b[39m(com\u001b[38;5;241m.\u001b[39mnot_none(\u001b[38;5;241m*\u001b[39mobjs_list))\n",
      "\u001b[0;31mValueError\u001b[0m: No objects to concatenate"
     ]
    }
   ],
   "source": [
    "# Store subset of games in the next 30 minutes\n",
    "now = datetime.now(ZoneInfo('America/New_York'))\n",
    "now = datetime(2024, 12, 1, 15, 2)\n",
    "\n",
    "games_now = games[(games['Time'] > now) & (games['Time'] <= now + timedelta(minutes = 30))]\n",
    "\n",
    "# Iterate through games\n",
    "for _, game in games_now.iterrows() :\n",
    "\n",
    "    eventId = game['event_id']\n",
    "\n",
    "    odds_response = requests.get(f'https://api.the-odds-api.com/v4/sports/basketball_nba/events/{eventId}/odds',\n",
    "                             params = {'apiKey': api_key,\n",
    "                                       'regions': 'us',\n",
    "                                       'markets': 'player_first_basket',\n",
    "                                       'oddsFormat': 'decimal'})\n",
    "    \n",
    "\n",
    "    bm_dfs = [pd.DataFrame(columns = ['name', 'price', 'bookmaker', 'update_time'])]\n",
    "    for bookmaker in odds_response.json()['bookmakers'] :\n",
    "        \n",
    "        bm_df = pd.DataFrame(bookmaker['markets'][0]['outcomes'])\n",
    "        bm_df['bookmaker'] = bookmaker['key']\n",
    "        bm_df['update_time'] = bookmaker['markets'][0]['last_update']\n",
    "\n",
    "        bm_dfs.append(\n",
    "            bm_df\n",
    "            .drop(columns = 'name')\n",
    "            .rename(columns = {'description': 'name'})\n",
    "        )\n",
    "\n",
    "    game_df = pd.concat(bm_dfs).reset_index(drop = True)\n",
    "    game_df['game_id'] = game['game_id']\n",
    "    game_df['event_id'] = game['event_id']\n",
    "\n",
    "    game_df['insert_timestamp_utc'] = datetime.now(timezone.utc)\n",
    "    game_df.to_csv('data/odds_first_basket.csv', index = None, header = None, mode = 'a')"
   ]
  },
  {
   "cell_type": "code",
   "execution_count": 75,
   "metadata": {},
   "outputs": [],
   "source": [
    "test = pd.read_csv('data/odds_first_basket.csv')[['price']]\n",
    "test['prob'] = 10 * [0.1]"
   ]
  },
  {
   "cell_type": "code",
   "execution_count": 71,
   "metadata": {},
   "outputs": [],
   "source": [
    "bm_dfs = [pd.DataFrame(columns = ['name', 'price', 'bookmaker', 'update_time'])]\n",
    "for bookmaker in odds_response.json()['bookmakers'] :\n",
    "    \n",
    "    bm_df = pd.DataFrame(bookmaker['markets'][0]['outcomes'])\n",
    "    bm_df['bookmaker'] = bookmaker['key']\n",
    "    bm_df['update_time'] = bookmaker['markets'][0]['last_update']\n",
    "\n",
    "    bm_dfs.append(\n",
    "        bm_df\n",
    "        .drop(columns = 'name')\n",
    "        .rename(columns = {'description': 'name'})\n",
    "    )\n",
    "\n",
    "game_df = pd.concat(bm_dfs).reset_index(drop = True)\n",
    "game_df['game_id'] = game['game_id']\n",
    "game_df['event_id'] = game['event_id']\n",
    "\n",
    "game_df['insert_timestamp_utc'] = datetime.now(timezone.utc)\n",
    "game_df.to_csv('data/odds_first_basket.csv', index = None, header = None, mode = 'a')"
   ]
  },
  {
   "cell_type": "code",
   "execution_count": null,
   "metadata": {},
   "outputs": [],
   "source": []
  },
  {
   "cell_type": "code",
   "execution_count": null,
   "metadata": {},
   "outputs": [],
   "source": []
  },
  {
   "cell_type": "code",
   "execution_count": 85,
   "metadata": {},
   "outputs": [],
   "source": [
    "import numpy as np"
   ]
  },
  {
   "cell_type": "code",
   "execution_count": 96,
   "metadata": {},
   "outputs": [
    {
     "data": {
      "text/html": [
       "<div>\n",
       "<style scoped>\n",
       "    .dataframe tbody tr th:only-of-type {\n",
       "        vertical-align: middle;\n",
       "    }\n",
       "\n",
       "    .dataframe tbody tr th {\n",
       "        vertical-align: top;\n",
       "    }\n",
       "\n",
       "    .dataframe thead th {\n",
       "        text-align: right;\n",
       "    }\n",
       "</style>\n",
       "<table border=\"1\" class=\"dataframe\">\n",
       "  <thead>\n",
       "    <tr style=\"text-align: right;\">\n",
       "      <th></th>\n",
       "      <th>price</th>\n",
       "      <th>prob</th>\n",
       "      <th>E</th>\n",
       "      <th>var</th>\n",
       "      <th>obj</th>\n",
       "    </tr>\n",
       "  </thead>\n",
       "  <tbody>\n",
       "    <tr>\n",
       "      <th>0</th>\n",
       "      <td>5.6</td>\n",
       "      <td>0.136351</td>\n",
       "      <td>-0.236435</td>\n",
       "      <td>3.692934</td>\n",
       "      <td>3.456499</td>\n",
       "    </tr>\n",
       "    <tr>\n",
       "      <th>1</th>\n",
       "      <td>7.0</td>\n",
       "      <td>0.179002</td>\n",
       "      <td>0.253011</td>\n",
       "      <td>7.201038</td>\n",
       "      <td>7.454049</td>\n",
       "    </tr>\n",
       "    <tr>\n",
       "      <th>2</th>\n",
       "      <td>8.5</td>\n",
       "      <td>0.073685</td>\n",
       "      <td>-0.373680</td>\n",
       "      <td>4.931443</td>\n",
       "      <td>4.557763</td>\n",
       "    </tr>\n",
       "    <tr>\n",
       "      <th>3</th>\n",
       "      <td>9.0</td>\n",
       "      <td>0.126602</td>\n",
       "      <td>0.139419</td>\n",
       "      <td>8.956494</td>\n",
       "      <td>9.095913</td>\n",
       "    </tr>\n",
       "    <tr>\n",
       "      <th>4</th>\n",
       "      <td>9.0</td>\n",
       "      <td>0.109996</td>\n",
       "      <td>-0.010033</td>\n",
       "      <td>7.929672</td>\n",
       "      <td>7.919639</td>\n",
       "    </tr>\n",
       "    <tr>\n",
       "      <th>5</th>\n",
       "      <td>9.5</td>\n",
       "      <td>0.079522</td>\n",
       "      <td>-0.244543</td>\n",
       "      <td>6.606128</td>\n",
       "      <td>6.361585</td>\n",
       "    </tr>\n",
       "    <tr>\n",
       "      <th>6</th>\n",
       "      <td>10.0</td>\n",
       "      <td>0.062705</td>\n",
       "      <td>-0.372955</td>\n",
       "      <td>5.877266</td>\n",
       "      <td>5.504311</td>\n",
       "    </tr>\n",
       "    <tr>\n",
       "      <th>7</th>\n",
       "      <td>10.0</td>\n",
       "      <td>0.054153</td>\n",
       "      <td>-0.458466</td>\n",
       "      <td>5.122077</td>\n",
       "      <td>4.663611</td>\n",
       "    </tr>\n",
       "    <tr>\n",
       "      <th>8</th>\n",
       "      <td>10.5</td>\n",
       "      <td>0.058793</td>\n",
       "      <td>-0.382673</td>\n",
       "      <td>6.100837</td>\n",
       "      <td>5.718164</td>\n",
       "    </tr>\n",
       "    <tr>\n",
       "      <th>9</th>\n",
       "      <td>11.0</td>\n",
       "      <td>0.119192</td>\n",
       "      <td>0.311109</td>\n",
       "      <td>12.703188</td>\n",
       "      <td>13.014297</td>\n",
       "    </tr>\n",
       "  </tbody>\n",
       "</table>\n",
       "</div>"
      ],
      "text/plain": [
       "   price      prob         E        var        obj\n",
       "0    5.6  0.136351 -0.236435   3.692934   3.456499\n",
       "1    7.0  0.179002  0.253011   7.201038   7.454049\n",
       "2    8.5  0.073685 -0.373680   4.931443   4.557763\n",
       "3    9.0  0.126602  0.139419   8.956494   9.095913\n",
       "4    9.0  0.109996 -0.010033   7.929672   7.919639\n",
       "5    9.5  0.079522 -0.244543   6.606128   6.361585\n",
       "6   10.0  0.062705 -0.372955   5.877266   5.504311\n",
       "7   10.0  0.054153 -0.458466   5.122077   4.663611\n",
       "8   10.5  0.058793 -0.382673   6.100837   5.718164\n",
       "9   11.0  0.119192  0.311109  12.703188  13.014297"
      ]
     },
     "execution_count": 96,
     "metadata": {},
     "output_type": "execute_result"
    }
   ],
   "source": [
    "s = 1\n",
    "lmbda = 1\n",
    "\n",
    "test = pd.read_csv('data/odds_first_basket.csv')[['price']]\n",
    "test['prob'] = 1 / test['price'] * np.random.uniform(0.5, 1.5, (10,))\n",
    "test['prob'] /= test['prob'].sum()\n",
    "test['E'] = (test['price'] * test['prob'] - 1) * s\n",
    "test['var'] = (s ** 2) * (test['prob'] * ((test['price'] - 1) ** 2) + 1 - test['prob'] - (test['prob'] * test['price'] - 1) ** 2)\n",
    "test['obj'] = test['E'] + lmbda * test['var']\n",
    "test"
   ]
  },
  {
   "cell_type": "markdown",
   "metadata": {},
   "source": [
    "$x_i \\in \\{0,1\\} \\ \\forall \\ i$\n",
    "\n",
    "$E_i = P_i o_i s_i - s_i$"
   ]
  },
  {
   "cell_type": "markdown",
   "metadata": {},
   "source": []
  }
 ],
 "metadata": {
  "kernelspec": {
   "display_name": "penv",
   "language": "python",
   "name": "python3"
  },
  "language_info": {
   "codemirror_mode": {
    "name": "ipython",
    "version": 3
   },
   "file_extension": ".py",
   "mimetype": "text/x-python",
   "name": "python",
   "nbconvert_exporter": "python",
   "pygments_lexer": "ipython3",
   "version": "3.9.20"
  }
 },
 "nbformat": 4,
 "nbformat_minor": 2
}
