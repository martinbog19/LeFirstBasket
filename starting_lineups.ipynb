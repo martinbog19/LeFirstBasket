{
 "cells": [
  {
   "cell_type": "code",
   "execution_count": 1,
   "metadata": {},
   "outputs": [],
   "source": [
    "# 1. scrape today's games with tipoff time (@ like 12pm)\n",
    "# 2. create a custom yml to run 30 minutes before each of the games on this day\n",
    "# 3. the script -- for all relevant games -- calls the odds api to fetch and save odds"
   ]
  },
  {
   "cell_type": "code",
   "execution_count": 31,
   "metadata": {},
   "outputs": [],
   "source": [
    "import pandas as pd\n",
    "import numpy as np\n",
    "from bs4 import BeautifulSoup\n",
    "import requests\n",
    "import json\n",
    "from datetime import datetime, timedelta, timezone\n",
    "import pytz\n",
    "from zoneinfo import ZoneInfo\n",
    "from time import sleep\n",
    "\n",
    "from scrape import get_first_basket, getId\n",
    "\n",
    "\n",
    "season = 2025"
   ]
  },
  {
   "cell_type": "code",
   "execution_count": 3,
   "metadata": {},
   "outputs": [],
   "source": [
    "today = datetime.now(ZoneInfo('America/New_York'))"
   ]
  },
  {
   "cell_type": "code",
   "execution_count": 4,
   "metadata": {},
   "outputs": [],
   "source": [
    "url = f'https://www.basketball-reference.com/leagues/NBA_{season}_games-{today.strftime(\"%B\").lower()}.html'\n",
    "page = requests.get(url)\n",
    "soup = BeautifulSoup(page.content, 'lxml')"
   ]
  },
  {
   "cell_type": "code",
   "execution_count": 5,
   "metadata": {},
   "outputs": [
    {
     "data": {
      "text/html": [
       "<div>\n",
       "<style scoped>\n",
       "    .dataframe tbody tr th:only-of-type {\n",
       "        vertical-align: middle;\n",
       "    }\n",
       "\n",
       "    .dataframe tbody tr th {\n",
       "        vertical-align: top;\n",
       "    }\n",
       "\n",
       "    .dataframe thead th {\n",
       "        text-align: right;\n",
       "    }\n",
       "</style>\n",
       "<table border=\"1\" class=\"dataframe\">\n",
       "  <thead>\n",
       "    <tr style=\"text-align: right;\">\n",
       "      <th></th>\n",
       "      <th>game_id</th>\n",
       "      <th>Date</th>\n",
       "      <th>Time</th>\n",
       "      <th>Home</th>\n",
       "      <th>Away</th>\n",
       "    </tr>\n",
       "  </thead>\n",
       "  <tbody>\n",
       "    <tr>\n",
       "      <th>0</th>\n",
       "      <td>202411220PHI</td>\n",
       "      <td>2024-11-22</td>\n",
       "      <td>2024-11-22 19:00:00</td>\n",
       "      <td>PHI</td>\n",
       "      <td>BRK</td>\n",
       "    </tr>\n",
       "    <tr>\n",
       "      <th>1</th>\n",
       "      <td>202411220WAS</td>\n",
       "      <td>2024-11-22</td>\n",
       "      <td>2024-11-22 19:00:00</td>\n",
       "      <td>WAS</td>\n",
       "      <td>BOS</td>\n",
       "    </tr>\n",
       "    <tr>\n",
       "      <th>2</th>\n",
       "      <td>202411220NOP</td>\n",
       "      <td>2024-11-22</td>\n",
       "      <td>2024-11-22 19:30:00</td>\n",
       "      <td>NOP</td>\n",
       "      <td>GSW</td>\n",
       "    </tr>\n",
       "    <tr>\n",
       "      <th>3</th>\n",
       "      <td>202411220CHI</td>\n",
       "      <td>2024-11-22</td>\n",
       "      <td>2024-11-22 20:00:00</td>\n",
       "      <td>CHI</td>\n",
       "      <td>ATL</td>\n",
       "    </tr>\n",
       "    <tr>\n",
       "      <th>4</th>\n",
       "      <td>202411220HOU</td>\n",
       "      <td>2024-11-22</td>\n",
       "      <td>2024-11-22 20:00:00</td>\n",
       "      <td>HOU</td>\n",
       "      <td>POR</td>\n",
       "    </tr>\n",
       "    <tr>\n",
       "      <th>5</th>\n",
       "      <td>202411220MIL</td>\n",
       "      <td>2024-11-22</td>\n",
       "      <td>2024-11-22 20:00:00</td>\n",
       "      <td>MIL</td>\n",
       "      <td>IND</td>\n",
       "    </tr>\n",
       "    <tr>\n",
       "      <th>6</th>\n",
       "      <td>202411220DEN</td>\n",
       "      <td>2024-11-22</td>\n",
       "      <td>2024-11-22 22:00:00</td>\n",
       "      <td>DEN</td>\n",
       "      <td>DAL</td>\n",
       "    </tr>\n",
       "    <tr>\n",
       "      <th>7</th>\n",
       "      <td>202411220LAC</td>\n",
       "      <td>2024-11-22</td>\n",
       "      <td>2024-11-22 22:30:00</td>\n",
       "      <td>LAC</td>\n",
       "      <td>SAC</td>\n",
       "    </tr>\n",
       "  </tbody>\n",
       "</table>\n",
       "</div>"
      ],
      "text/plain": [
       "        game_id       Date                Time Home Away\n",
       "0  202411220PHI 2024-11-22 2024-11-22 19:00:00  PHI  BRK\n",
       "1  202411220WAS 2024-11-22 2024-11-22 19:00:00  WAS  BOS\n",
       "2  202411220NOP 2024-11-22 2024-11-22 19:30:00  NOP  GSW\n",
       "3  202411220CHI 2024-11-22 2024-11-22 20:00:00  CHI  ATL\n",
       "4  202411220HOU 2024-11-22 2024-11-22 20:00:00  HOU  POR\n",
       "5  202411220MIL 2024-11-22 2024-11-22 20:00:00  MIL  IND\n",
       "6  202411220DEN 2024-11-22 2024-11-22 22:00:00  DEN  DAL\n",
       "7  202411220LAC 2024-11-22 2024-11-22 22:30:00  LAC  SAC"
      ]
     },
     "execution_count": 5,
     "metadata": {},
     "output_type": "execute_result"
    }
   ],
   "source": [
    "table = soup.find('table')\n",
    "while table.find_all('tr', class_ = 'thead') :\n",
    "    table.find('tr', class_ = 'thead').decompose()\n",
    "games = pd.read_html(str(table))[0].rename(columns = {'Start (ET)': 'Time'})\n",
    "games['Home'] = [x['href'].split('/')[2] for x in table.find_all('a', href = True) if 'teams' in x['href']][1::2]\n",
    "games['Away'] = [x['href'].split('/')[2] for x in table.find_all('a', href = True) if 'teams' in x['href']][0::2]\n",
    "games['Date'] = pd.to_datetime(games['Date'])\n",
    "games = games[pd.to_datetime(games['Date']) == pd.to_datetime(today.date())].reset_index(drop = True)\n",
    "games['Time'] = (games['Date'].astype(str) + ' ' +  games['Time']).apply(lambda x: datetime.strptime(x.upper() + 'M', \"%Y-%m-%d %I:%M%p\"))\n",
    "games['game_id'] = games['Date'].apply(lambda x: datetime.strftime(x, \"%Y%m%d\")) + '0' + games['Home']\n",
    "\n",
    "games = games[['game_id', 'Date', 'Time', 'Home', 'Away']]\n",
    "games"
   ]
  },
  {
   "cell_type": "code",
   "execution_count": 6,
   "metadata": {},
   "outputs": [
    {
     "data": {
      "text/html": [
       "<div>\n",
       "<style scoped>\n",
       "    .dataframe tbody tr th:only-of-type {\n",
       "        vertical-align: middle;\n",
       "    }\n",
       "\n",
       "    .dataframe tbody tr th {\n",
       "        vertical-align: top;\n",
       "    }\n",
       "\n",
       "    .dataframe thead th {\n",
       "        text-align: right;\n",
       "    }\n",
       "</style>\n",
       "<table border=\"1\" class=\"dataframe\">\n",
       "  <thead>\n",
       "    <tr style=\"text-align: right;\">\n",
       "      <th></th>\n",
       "      <th>game_id</th>\n",
       "      <th>Date</th>\n",
       "      <th>Time</th>\n",
       "      <th>Home</th>\n",
       "      <th>Away</th>\n",
       "    </tr>\n",
       "  </thead>\n",
       "  <tbody>\n",
       "    <tr>\n",
       "      <th>0</th>\n",
       "      <td>202411220PHI</td>\n",
       "      <td>2024-11-22</td>\n",
       "      <td>2024-11-22 19:00:00</td>\n",
       "      <td>PHI</td>\n",
       "      <td>BRK</td>\n",
       "    </tr>\n",
       "    <tr>\n",
       "      <th>1</th>\n",
       "      <td>202411220WAS</td>\n",
       "      <td>2024-11-22</td>\n",
       "      <td>2024-11-22 19:00:00</td>\n",
       "      <td>WAS</td>\n",
       "      <td>BOS</td>\n",
       "    </tr>\n",
       "    <tr>\n",
       "      <th>2</th>\n",
       "      <td>202411220NOP</td>\n",
       "      <td>2024-11-22</td>\n",
       "      <td>2024-11-22 19:30:00</td>\n",
       "      <td>NOP</td>\n",
       "      <td>GSW</td>\n",
       "    </tr>\n",
       "    <tr>\n",
       "      <th>3</th>\n",
       "      <td>202411220CHI</td>\n",
       "      <td>2024-11-22</td>\n",
       "      <td>2024-11-22 20:00:00</td>\n",
       "      <td>CHI</td>\n",
       "      <td>ATL</td>\n",
       "    </tr>\n",
       "    <tr>\n",
       "      <th>4</th>\n",
       "      <td>202411220HOU</td>\n",
       "      <td>2024-11-22</td>\n",
       "      <td>2024-11-22 20:00:00</td>\n",
       "      <td>HOU</td>\n",
       "      <td>POR</td>\n",
       "    </tr>\n",
       "    <tr>\n",
       "      <th>5</th>\n",
       "      <td>202411220MIL</td>\n",
       "      <td>2024-11-22</td>\n",
       "      <td>2024-11-22 20:00:00</td>\n",
       "      <td>MIL</td>\n",
       "      <td>IND</td>\n",
       "    </tr>\n",
       "    <tr>\n",
       "      <th>6</th>\n",
       "      <td>202411220DEN</td>\n",
       "      <td>2024-11-22</td>\n",
       "      <td>2024-11-22 22:00:00</td>\n",
       "      <td>DEN</td>\n",
       "      <td>DAL</td>\n",
       "    </tr>\n",
       "    <tr>\n",
       "      <th>7</th>\n",
       "      <td>202411220LAC</td>\n",
       "      <td>2024-11-22</td>\n",
       "      <td>2024-11-22 22:30:00</td>\n",
       "      <td>LAC</td>\n",
       "      <td>SAC</td>\n",
       "    </tr>\n",
       "  </tbody>\n",
       "</table>\n",
       "</div>"
      ],
      "text/plain": [
       "        game_id       Date                Time Home Away\n",
       "0  202411220PHI 2024-11-22 2024-11-22 19:00:00  PHI  BRK\n",
       "1  202411220WAS 2024-11-22 2024-11-22 19:00:00  WAS  BOS\n",
       "2  202411220NOP 2024-11-22 2024-11-22 19:30:00  NOP  GSW\n",
       "3  202411220CHI 2024-11-22 2024-11-22 20:00:00  CHI  ATL\n",
       "4  202411220HOU 2024-11-22 2024-11-22 20:00:00  HOU  POR\n",
       "5  202411220MIL 2024-11-22 2024-11-22 20:00:00  MIL  IND\n",
       "6  202411220DEN 2024-11-22 2024-11-22 22:00:00  DEN  DAL\n",
       "7  202411220LAC 2024-11-22 2024-11-22 22:30:00  LAC  SAC"
      ]
     },
     "execution_count": 6,
     "metadata": {},
     "output_type": "execute_result"
    }
   ],
   "source": [
    "games"
   ]
  },
  {
   "cell_type": "code",
   "execution_count": null,
   "metadata": {},
   "outputs": [],
   "source": [
    "def datetime_to_cron_utc(dt) :\n",
    "\n",
    "    time_et = pytz.timezone('US/Eastern').localize(dt) # Localize in ET\n",
    "    # Convert to UTC\n",
    "    time_utc = time_et.astimezone(pytz.utc)\n",
    "\n",
    "    return f\"{time_utc.minute} {time_utc.hour} {time_utc.day} {time_utc.month} *\""
   ]
  },
  {
   "cell_type": "code",
   "execution_count": 27,
   "metadata": {},
   "outputs": [
    {
     "data": {
      "text/plain": [
       "['30 23 22 11 *', '0 0 23 11 *', '30 0 23 11 *', '30 2 23 11 *', '0 3 23 11 *']"
      ]
     },
     "execution_count": 27,
     "metadata": {},
     "output_type": "execute_result"
    }
   ],
   "source": [
    "# Each unique tipoff time minus 30 minutes we want to run the script\n",
    "execute_crons = [datetime_to_cron_utc(t - timedelta(minutes = 30)) for t in games['Time'].unique()]\n",
    "execute_crons"
   ]
  },
  {
   "cell_type": "code",
   "execution_count": 30,
   "metadata": {},
   "outputs": [
    {
     "name": "stdout",
     "output_type": "stream",
     "text": [
      "Workflow file .github/workflows/schedule_today_games.yml created successfully!\n"
     ]
    }
   ],
   "source": [
    "# .yml write path\n",
    "yml_path = \".github/workflows/schedule_today_games.yml\"  # Output workflow file\n",
    "\n",
    "# Create the dynamic .yml file content\n",
    "workflow_content = f\"\"\"name: Run Script Before NBA Games\n",
    "\n",
    "on:\n",
    "  schedule:\n",
    "\"\"\"\n",
    "\n",
    "# Add all calculated cron expressions to the workflow\n",
    "for cron in execute_crons :\n",
    "    workflow_content += f\"    - cron: '{cron}'\\n\"\n",
    "\n",
    "workflow_content += \"\"\"\n",
    "jobs:\n",
    "  run_script:\n",
    "    runs-on: ubuntu-latest\n",
    "    steps:\n",
    "      - name: Checkout Repository\n",
    "        uses: actions/checkout@v3\n",
    "\n",
    "      - name: Set Up Python\n",
    "        uses: actions/setup-python@v4\n",
    "        with:\n",
    "          python-version: '3.x'\n",
    "\n",
    "      - name: Install Dependencies\n",
    "        run: pip install -r requirements.txt\n",
    "\n",
    "      - name: Run Before Game Script\n",
    "        run: python run_before_game.py\n",
    "\"\"\"\n",
    "\n",
    "# Save the workflow content to a .yml file\n",
    "with open(yml_path, \"w\") as f:\n",
    "    f.write(workflow_content)\n",
    "\n",
    "print(f\"Workflow file {yml_path} created successfully!\")\n"
   ]
  },
  {
   "cell_type": "code",
   "execution_count": 38,
   "metadata": {},
   "outputs": [],
   "source": [
    "api_key = 'a7bfde5bb651ac64e61f99c67631ef47'"
   ]
  },
  {
   "cell_type": "code",
   "execution_count": null,
   "metadata": {},
   "outputs": [],
   "source": [
    "tmrw_utc = (today + timedelta(days = 1)).astimezone(pytz.utc)"
   ]
  },
  {
   "cell_type": "code",
   "execution_count": 39,
   "metadata": {},
   "outputs": [],
   "source": [
    "events_response = requests.get(f'https://api.the-odds-api.com/v4/sports/basketball_nba/events',\n",
    "                               params = {'apiKey': api_key,\n",
    "                                         'commenceTimeTo': tmrw_utc.strftime('%Y-%m-%dT%H:%M:%SZ')})"
   ]
  },
  {
   "cell_type": "code",
   "execution_count": 54,
   "metadata": {},
   "outputs": [],
   "source": [
    "events = pd.DataFrame(events_response.json()).rename(columns = {'id': 'event_id'})\n",
    "events['commence_time'] = pd.to_datetime(events['commence_time'])"
   ]
  },
  {
   "cell_type": "code",
   "execution_count": 55,
   "metadata": {},
   "outputs": [],
   "source": [
    "with open('utils/odds_tm_map.json', 'r') as file:\n",
    "    odds_tm_map = json.load(file)"
   ]
  },
  {
   "cell_type": "code",
   "execution_count": 59,
   "metadata": {},
   "outputs": [
    {
     "data": {
      "text/html": [
       "<div>\n",
       "<style scoped>\n",
       "    .dataframe tbody tr th:only-of-type {\n",
       "        vertical-align: middle;\n",
       "    }\n",
       "\n",
       "    .dataframe tbody tr th {\n",
       "        vertical-align: top;\n",
       "    }\n",
       "\n",
       "    .dataframe thead th {\n",
       "        text-align: right;\n",
       "    }\n",
       "</style>\n",
       "<table border=\"1\" class=\"dataframe\">\n",
       "  <thead>\n",
       "    <tr style=\"text-align: right;\">\n",
       "      <th></th>\n",
       "      <th>game_id</th>\n",
       "      <th>Date</th>\n",
       "      <th>Time</th>\n",
       "      <th>Home</th>\n",
       "      <th>Away</th>\n",
       "    </tr>\n",
       "  </thead>\n",
       "  <tbody>\n",
       "    <tr>\n",
       "      <th>0</th>\n",
       "      <td>202411220PHI</td>\n",
       "      <td>2024-11-22</td>\n",
       "      <td>2024-11-22 19:00:00</td>\n",
       "      <td>PHI</td>\n",
       "      <td>BRK</td>\n",
       "    </tr>\n",
       "    <tr>\n",
       "      <th>1</th>\n",
       "      <td>202411220WAS</td>\n",
       "      <td>2024-11-22</td>\n",
       "      <td>2024-11-22 19:00:00</td>\n",
       "      <td>WAS</td>\n",
       "      <td>BOS</td>\n",
       "    </tr>\n",
       "    <tr>\n",
       "      <th>2</th>\n",
       "      <td>202411220NOP</td>\n",
       "      <td>2024-11-22</td>\n",
       "      <td>2024-11-22 19:30:00</td>\n",
       "      <td>NOP</td>\n",
       "      <td>GSW</td>\n",
       "    </tr>\n",
       "    <tr>\n",
       "      <th>3</th>\n",
       "      <td>202411220CHI</td>\n",
       "      <td>2024-11-22</td>\n",
       "      <td>2024-11-22 20:00:00</td>\n",
       "      <td>CHI</td>\n",
       "      <td>ATL</td>\n",
       "    </tr>\n",
       "    <tr>\n",
       "      <th>4</th>\n",
       "      <td>202411220HOU</td>\n",
       "      <td>2024-11-22</td>\n",
       "      <td>2024-11-22 20:00:00</td>\n",
       "      <td>HOU</td>\n",
       "      <td>POR</td>\n",
       "    </tr>\n",
       "    <tr>\n",
       "      <th>5</th>\n",
       "      <td>202411220MIL</td>\n",
       "      <td>2024-11-22</td>\n",
       "      <td>2024-11-22 20:00:00</td>\n",
       "      <td>MIL</td>\n",
       "      <td>IND</td>\n",
       "    </tr>\n",
       "    <tr>\n",
       "      <th>6</th>\n",
       "      <td>202411220DEN</td>\n",
       "      <td>2024-11-22</td>\n",
       "      <td>2024-11-22 22:00:00</td>\n",
       "      <td>DEN</td>\n",
       "      <td>DAL</td>\n",
       "    </tr>\n",
       "    <tr>\n",
       "      <th>7</th>\n",
       "      <td>202411220LAC</td>\n",
       "      <td>2024-11-22</td>\n",
       "      <td>2024-11-22 22:30:00</td>\n",
       "      <td>LAC</td>\n",
       "      <td>SAC</td>\n",
       "    </tr>\n",
       "  </tbody>\n",
       "</table>\n",
       "</div>"
      ],
      "text/plain": [
       "        game_id       Date                Time Home Away\n",
       "0  202411220PHI 2024-11-22 2024-11-22 19:00:00  PHI  BRK\n",
       "1  202411220WAS 2024-11-22 2024-11-22 19:00:00  WAS  BOS\n",
       "2  202411220NOP 2024-11-22 2024-11-22 19:30:00  NOP  GSW\n",
       "3  202411220CHI 2024-11-22 2024-11-22 20:00:00  CHI  ATL\n",
       "4  202411220HOU 2024-11-22 2024-11-22 20:00:00  HOU  POR\n",
       "5  202411220MIL 2024-11-22 2024-11-22 20:00:00  MIL  IND\n",
       "6  202411220DEN 2024-11-22 2024-11-22 22:00:00  DEN  DAL\n",
       "7  202411220LAC 2024-11-22 2024-11-22 22:30:00  LAC  SAC"
      ]
     },
     "execution_count": 59,
     "metadata": {},
     "output_type": "execute_result"
    }
   ],
   "source": [
    "games"
   ]
  },
  {
   "cell_type": "code",
   "execution_count": 57,
   "metadata": {},
   "outputs": [],
   "source": [
    "events['game_id'] = today.strftime(\"%Y%m%d\") + '0' + events['home_team'].map(odds_tm_map)"
   ]
  },
  {
   "cell_type": "code",
   "execution_count": 61,
   "metadata": {},
   "outputs": [
    {
     "data": {
      "text/html": [
       "<div>\n",
       "<style scoped>\n",
       "    .dataframe tbody tr th:only-of-type {\n",
       "        vertical-align: middle;\n",
       "    }\n",
       "\n",
       "    .dataframe tbody tr th {\n",
       "        vertical-align: top;\n",
       "    }\n",
       "\n",
       "    .dataframe thead th {\n",
       "        text-align: right;\n",
       "    }\n",
       "</style>\n",
       "<table border=\"1\" class=\"dataframe\">\n",
       "  <thead>\n",
       "    <tr style=\"text-align: right;\">\n",
       "      <th></th>\n",
       "      <th>game_id</th>\n",
       "      <th>Date</th>\n",
       "      <th>Time</th>\n",
       "      <th>Home</th>\n",
       "      <th>Away</th>\n",
       "      <th>event_id</th>\n",
       "      <th>home_team</th>\n",
       "      <th>away_team</th>\n",
       "    </tr>\n",
       "  </thead>\n",
       "  <tbody>\n",
       "    <tr>\n",
       "      <th>0</th>\n",
       "      <td>202411220PHI</td>\n",
       "      <td>2024-11-22</td>\n",
       "      <td>2024-11-22 19:00:00</td>\n",
       "      <td>PHI</td>\n",
       "      <td>BRK</td>\n",
       "      <td>472f1e3e2efd7d64a3af836936a83ec5</td>\n",
       "      <td>Philadelphia 76ers</td>\n",
       "      <td>Brooklyn Nets</td>\n",
       "    </tr>\n",
       "    <tr>\n",
       "      <th>1</th>\n",
       "      <td>202411220WAS</td>\n",
       "      <td>2024-11-22</td>\n",
       "      <td>2024-11-22 19:00:00</td>\n",
       "      <td>WAS</td>\n",
       "      <td>BOS</td>\n",
       "      <td>b600186d2dc2ace2fa5ac10c04e17059</td>\n",
       "      <td>Washington Wizards</td>\n",
       "      <td>Boston Celtics</td>\n",
       "    </tr>\n",
       "    <tr>\n",
       "      <th>2</th>\n",
       "      <td>202411220NOP</td>\n",
       "      <td>2024-11-22</td>\n",
       "      <td>2024-11-22 19:30:00</td>\n",
       "      <td>NOP</td>\n",
       "      <td>GSW</td>\n",
       "      <td>9cc15bb04622261a10545f179a61c3a8</td>\n",
       "      <td>New Orleans Pelicans</td>\n",
       "      <td>Golden State Warriors</td>\n",
       "    </tr>\n",
       "    <tr>\n",
       "      <th>3</th>\n",
       "      <td>202411220CHI</td>\n",
       "      <td>2024-11-22</td>\n",
       "      <td>2024-11-22 20:00:00</td>\n",
       "      <td>CHI</td>\n",
       "      <td>ATL</td>\n",
       "      <td>feff9ee9f3337c34943c5ae257f40c5e</td>\n",
       "      <td>Chicago Bulls</td>\n",
       "      <td>Atlanta Hawks</td>\n",
       "    </tr>\n",
       "    <tr>\n",
       "      <th>4</th>\n",
       "      <td>202411220HOU</td>\n",
       "      <td>2024-11-22</td>\n",
       "      <td>2024-11-22 20:00:00</td>\n",
       "      <td>HOU</td>\n",
       "      <td>POR</td>\n",
       "      <td>d5867a7b248d1fa208569ce6399e662c</td>\n",
       "      <td>Houston Rockets</td>\n",
       "      <td>Portland Trail Blazers</td>\n",
       "    </tr>\n",
       "    <tr>\n",
       "      <th>5</th>\n",
       "      <td>202411220MIL</td>\n",
       "      <td>2024-11-22</td>\n",
       "      <td>2024-11-22 20:00:00</td>\n",
       "      <td>MIL</td>\n",
       "      <td>IND</td>\n",
       "      <td>cae716a9887d0ec78c9daee644d94f1c</td>\n",
       "      <td>Milwaukee Bucks</td>\n",
       "      <td>Indiana Pacers</td>\n",
       "    </tr>\n",
       "    <tr>\n",
       "      <th>6</th>\n",
       "      <td>202411220DEN</td>\n",
       "      <td>2024-11-22</td>\n",
       "      <td>2024-11-22 22:00:00</td>\n",
       "      <td>DEN</td>\n",
       "      <td>DAL</td>\n",
       "      <td>9e56472e15b270db1994636e56e96a90</td>\n",
       "      <td>Denver Nuggets</td>\n",
       "      <td>Dallas Mavericks</td>\n",
       "    </tr>\n",
       "    <tr>\n",
       "      <th>7</th>\n",
       "      <td>202411220LAC</td>\n",
       "      <td>2024-11-22</td>\n",
       "      <td>2024-11-22 22:30:00</td>\n",
       "      <td>LAC</td>\n",
       "      <td>SAC</td>\n",
       "      <td>f1f07b258350717d5f038c3cea64a258</td>\n",
       "      <td>Los Angeles Clippers</td>\n",
       "      <td>Sacramento Kings</td>\n",
       "    </tr>\n",
       "  </tbody>\n",
       "</table>\n",
       "</div>"
      ],
      "text/plain": [
       "        game_id       Date                Time Home Away  \\\n",
       "0  202411220PHI 2024-11-22 2024-11-22 19:00:00  PHI  BRK   \n",
       "1  202411220WAS 2024-11-22 2024-11-22 19:00:00  WAS  BOS   \n",
       "2  202411220NOP 2024-11-22 2024-11-22 19:30:00  NOP  GSW   \n",
       "3  202411220CHI 2024-11-22 2024-11-22 20:00:00  CHI  ATL   \n",
       "4  202411220HOU 2024-11-22 2024-11-22 20:00:00  HOU  POR   \n",
       "5  202411220MIL 2024-11-22 2024-11-22 20:00:00  MIL  IND   \n",
       "6  202411220DEN 2024-11-22 2024-11-22 22:00:00  DEN  DAL   \n",
       "7  202411220LAC 2024-11-22 2024-11-22 22:30:00  LAC  SAC   \n",
       "\n",
       "                           event_id             home_team  \\\n",
       "0  472f1e3e2efd7d64a3af836936a83ec5    Philadelphia 76ers   \n",
       "1  b600186d2dc2ace2fa5ac10c04e17059    Washington Wizards   \n",
       "2  9cc15bb04622261a10545f179a61c3a8  New Orleans Pelicans   \n",
       "3  feff9ee9f3337c34943c5ae257f40c5e         Chicago Bulls   \n",
       "4  d5867a7b248d1fa208569ce6399e662c       Houston Rockets   \n",
       "5  cae716a9887d0ec78c9daee644d94f1c       Milwaukee Bucks   \n",
       "6  9e56472e15b270db1994636e56e96a90        Denver Nuggets   \n",
       "7  f1f07b258350717d5f038c3cea64a258  Los Angeles Clippers   \n",
       "\n",
       "                away_team  \n",
       "0           Brooklyn Nets  \n",
       "1          Boston Celtics  \n",
       "2   Golden State Warriors  \n",
       "3           Atlanta Hawks  \n",
       "4  Portland Trail Blazers  \n",
       "5          Indiana Pacers  \n",
       "6        Dallas Mavericks  \n",
       "7        Sacramento Kings  "
      ]
     },
     "execution_count": 61,
     "metadata": {},
     "output_type": "execute_result"
    }
   ],
   "source": [
    "pd.merge(games, events[['game_id', 'event_id', 'home_team', 'away_team']],\n",
    "         on = 'game_id')"
   ]
  },
  {
   "cell_type": "code",
   "execution_count": null,
   "metadata": {},
   "outputs": [],
   "source": []
  },
  {
   "cell_type": "code",
   "execution_count": null,
   "metadata": {},
   "outputs": [],
   "source": []
  },
  {
   "cell_type": "code",
   "execution_count": null,
   "metadata": {},
   "outputs": [],
   "source": []
  },
  {
   "cell_type": "code",
   "execution_count": null,
   "metadata": {},
   "outputs": [],
   "source": []
  },
  {
   "cell_type": "code",
   "execution_count": null,
   "metadata": {},
   "outputs": [],
   "source": []
  },
  {
   "cell_type": "code",
   "execution_count": 4,
   "metadata": {},
   "outputs": [],
   "source": [
    "url = 'https://www.rotowire.com/basketball/nba-lineups.php'"
   ]
  },
  {
   "cell_type": "code",
   "execution_count": 5,
   "metadata": {},
   "outputs": [],
   "source": [
    "page = requests.get(url)"
   ]
  },
  {
   "cell_type": "code",
   "execution_count": 19,
   "metadata": {},
   "outputs": [],
   "source": [
    "url = \"https://www.rotowire.com/basketball/nba-lineups.php\"\n",
    "response = requests.get(url)\n",
    "html = response.text.replace(\"<!--\", \"\").replace(\n",
    "    \"-->\", \"\"\n",
    ")  # uncomment tables\n",
    "soup = BeautifulSoup(html, \"lxml\")"
   ]
  },
  {
   "cell_type": "code",
   "execution_count": 20,
   "metadata": {},
   "outputs": [
    {
     "data": {
      "text/plain": [
       "1"
      ]
     },
     "execution_count": 20,
     "metadata": {},
     "output_type": "execute_result"
    }
   ],
   "source": [
    "len([x for x in soup.find_all('table')])"
   ]
  },
  {
   "cell_type": "code",
   "execution_count": 23,
   "metadata": {},
   "outputs": [
    {
     "data": {
      "text/html": [
       "<div>\n",
       "<style scoped>\n",
       "    .dataframe tbody tr th:only-of-type {\n",
       "        vertical-align: middle;\n",
       "    }\n",
       "\n",
       "    .dataframe tbody tr th {\n",
       "        vertical-align: top;\n",
       "    }\n",
       "\n",
       "    .dataframe thead th {\n",
       "        text-align: right;\n",
       "    }\n",
       "</style>\n",
       "<table border=\"1\" class=\"dataframe\">\n",
       "  <thead>\n",
       "    <tr style=\"text-align: right;\">\n",
       "      <th></th>\n",
       "      <th>0</th>\n",
       "      <th>1</th>\n",
       "      <th>2</th>\n",
       "    </tr>\n",
       "  </thead>\n",
       "  <tbody>\n",
       "    <tr>\n",
       "      <th>0</th>\n",
       "      <td>📱NBA Sportsbook</td>\n",
       "      <td>🎁 NBA Bonus</td>\n",
       "      <td>🤑 NBA Promo Code</td>\n",
       "    </tr>\n",
       "    <tr>\n",
       "      <th>1</th>\n",
       "      <td>📱BetMGM</td>\n",
       "      <td>🎁 $1,500 First Bet Offer</td>\n",
       "      <td>🤑 ROTOBONUS</td>\n",
       "    </tr>\n",
       "    <tr>\n",
       "      <th>2</th>\n",
       "      <td>📱Caesars Sportsbook</td>\n",
       "      <td>🎁 $1,000 First Bet on Caesars</td>\n",
       "      <td>🤑 ROTO1000</td>\n",
       "    </tr>\n",
       "    <tr>\n",
       "      <th>3</th>\n",
       "      <td>📱Fanatics Sportsbook</td>\n",
       "      <td>🎁 Bet &amp; Get $1,000 in No Sweat Bets</td>\n",
       "      <td>🤑 CLICK HERE</td>\n",
       "    </tr>\n",
       "    <tr>\n",
       "      <th>4</th>\n",
       "      <td>📱DraftKings</td>\n",
       "      <td>🎁 Bet $5, Win $150 In Bonus Bets</td>\n",
       "      <td>🤑 CLICK HERE</td>\n",
       "    </tr>\n",
       "    <tr>\n",
       "      <th>5</th>\n",
       "      <td>📱FanDuel</td>\n",
       "      <td>🎁 Bet $5, Win $150 in Bonus Bets + 3 Months of...</td>\n",
       "      <td>🤑 CLICK HERE</td>\n",
       "    </tr>\n",
       "    <tr>\n",
       "      <th>6</th>\n",
       "      <td>📱bet365</td>\n",
       "      <td>🎁 $1,000 First Bet Safety Net or Bet $5, Get $150</td>\n",
       "      <td>🤑 ROTOWIRE</td>\n",
       "    </tr>\n",
       "  </tbody>\n",
       "</table>\n",
       "</div>"
      ],
      "text/plain": [
       "                      0                                                  1  \\\n",
       "0       📱NBA Sportsbook                                        🎁 NBA Bonus   \n",
       "1               📱BetMGM                           🎁 $1,500 First Bet Offer   \n",
       "2   📱Caesars Sportsbook                      🎁 $1,000 First Bet on Caesars   \n",
       "3  📱Fanatics Sportsbook                🎁 Bet & Get $1,000 in No Sweat Bets   \n",
       "4           📱DraftKings                   🎁 Bet $5, Win $150 In Bonus Bets   \n",
       "5              📱FanDuel  🎁 Bet $5, Win $150 in Bonus Bets + 3 Months of...   \n",
       "6               📱bet365  🎁 $1,000 First Bet Safety Net or Bet $5, Get $150   \n",
       "\n",
       "                  2  \n",
       "0  🤑 NBA Promo Code  \n",
       "1       🤑 ROTOBONUS  \n",
       "2        🤑 ROTO1000  \n",
       "3      🤑 CLICK HERE  \n",
       "4      🤑 CLICK HERE  \n",
       "5      🤑 CLICK HERE  \n",
       "6        🤑 ROTOWIRE  "
      ]
     },
     "execution_count": 23,
     "metadata": {},
     "output_type": "execute_result"
    }
   ],
   "source": [
    "pd.read_html(str(table))[0]"
   ]
  },
  {
   "cell_type": "code",
   "execution_count": 24,
   "metadata": {},
   "outputs": [
    {
     "data": {
      "text/plain": [
       "[<button class=\"see-proj-minutes\" data-home=\"0\" data-nickname=\"Bulls\" data-team=\"CHI\">Projected Minutes</button>,\n",
       " <button class=\"see-proj-minutes\" data-home=\"1\" data-nickname=\"Pistons\" data-team=\"DET\">Projected Minutes</button>,\n",
       " <button class=\"see-proj-minutes\" data-home=\"0\" data-nickname=\"76ers\" data-team=\"PHI\">Projected Minutes</button>,\n",
       " <button class=\"see-proj-minutes\" data-home=\"1\" data-nickname=\"Heat\" data-team=\"MIA\">Projected Minutes</button>,\n",
       " <button class=\"see-proj-minutes\" data-home=\"0\" data-nickname=\"Wizards\" data-team=\"WAS\">Projected Minutes</button>,\n",
       " <button class=\"see-proj-minutes\" data-home=\"1\" data-nickname=\"Knicks\" data-team=\"NYK\">Projected Minutes</button>,\n",
       " <button class=\"see-proj-minutes\" data-home=\"0\" data-nickname=\"Pacers\" data-team=\"IND\">Projected Minutes</button>,\n",
       " <button class=\"see-proj-minutes\" data-home=\"1\" data-nickname=\"Raptors\" data-team=\"TOR\">Projected Minutes</button>,\n",
       " <button class=\"see-proj-minutes\" data-home=\"0\" data-nickname=\"Rockets\" data-team=\"HOU\">Projected Minutes</button>,\n",
       " <button class=\"see-proj-minutes\" data-home=\"1\" data-nickname=\"Bucks\" data-team=\"MIL\">Projected Minutes</button>,\n",
       " <button class=\"see-proj-minutes\" data-home=\"0\" data-nickname=\"Magic\" data-team=\"ORL\">Projected Minutes</button>,\n",
       " <button class=\"see-proj-minutes\" data-home=\"1\" data-nickname=\"Suns\" data-team=\"PHX\">Projected Minutes</button>,\n",
       " <button class=\"see-proj-minutes\" data-home=\"0\" data-nickname=\"Hawks\" data-team=\"ATL\">Projected Minutes</button>,\n",
       " <button class=\"see-proj-minutes\" data-home=\"1\" data-nickname=\"Kings\" data-team=\"SAC\">Projected Minutes</button>,\n",
       " <button class=\"see-proj-minutes\" data-home=\"0\" data-nickname=\"Warriors\" data-team=\"GSW\">Projected Minutes</button>,\n",
       " <button class=\"see-proj-minutes\" data-home=\"1\" data-nickname=\"Clippers\" data-team=\"LAC\">Projected Minutes</button>]"
      ]
     },
     "execution_count": 24,
     "metadata": {},
     "output_type": "execute_result"
    }
   ],
   "source": [
    "soup.find_all('button', class_ = 'see-proj-minutes')"
   ]
  },
  {
   "cell_type": "code",
   "execution_count": 44,
   "metadata": {},
   "outputs": [
    {
     "data": {
      "text/plain": [
       "['Josh Giddey', 'Coby White', 'Zach LaVine', 'P. Williams', 'N. Vucevic']"
      ]
     },
     "execution_count": 44,
     "metadata": {},
     "output_type": "execute_result"
    }
   ],
   "source": [
    "lineup_away = soup.find('ul', class_ = 'lineup__list is-visit')\n",
    "starting_lineup_tags = lineup_away.find_all('li')[1:6]\n",
    "[x.text.split('\\n')[-2] for x in starting_lineup_tags]"
   ]
  },
  {
   "cell_type": "code",
   "execution_count": 47,
   "metadata": {},
   "outputs": [
    {
     "data": {
      "text/plain": [
       "['C. Cunningham', 'Jaden Ivey', 'T. Hardaway', 'Tobias Harris', 'Jalen Duren']"
      ]
     },
     "execution_count": 47,
     "metadata": {},
     "output_type": "execute_result"
    }
   ],
   "source": [
    "lineup_home = soup.find('ul', class_ = 'lineup__list is-home')\n",
    "starting_lineup_tags = lineup_home.find_all('li')[1:6]\n",
    "[x.text.split('\\n')[-2] for x in starting_lineup_tags]"
   ]
  },
  {
   "cell_type": "code",
   "execution_count": 48,
   "metadata": {},
   "outputs": [
    {
     "ename": "AttributeError",
     "evalue": "'list' object has no attribute 'find_all'",
     "output_type": "error",
     "traceback": [
      "\u001b[0;31m---------------------------------------------------------------------------\u001b[0m",
      "\u001b[0;31mAttributeError\u001b[0m                            Traceback (most recent call last)",
      "Cell \u001b[0;32mIn[48], line 1\u001b[0m\n\u001b[0;32m----> 1\u001b[0m [x \u001b[38;5;28;01mfor\u001b[39;00m x \u001b[38;5;129;01min\u001b[39;00m \u001b[43mstarting_lineup_tags\u001b[49m\u001b[38;5;241;43m.\u001b[39;49m\u001b[43mfind_all\u001b[49m(\u001b[38;5;124m'\u001b[39m\u001b[38;5;124ma\u001b[39m\u001b[38;5;124m'\u001b[39m, href \u001b[38;5;241m=\u001b[39m \u001b[38;5;28;01mTrue\u001b[39;00m)]\n",
      "\u001b[0;31mAttributeError\u001b[0m: 'list' object has no attribute 'find_all'"
     ]
    }
   ],
   "source": [
    "[x for x in starting_lineup_tags.find_all('a', href = True)]"
   ]
  },
  {
   "cell_type": "code",
   "execution_count": 50,
   "metadata": {},
   "outputs": [
    {
     "data": {
      "text/plain": [
       "['/basketball/player/cade-cunningham-5336',\n",
       " '/basketball/player/jaden-ivey-5696',\n",
       " '/basketball/player/tim-hardaway-3459',\n",
       " '/basketball/player/tobias-harris-3211',\n",
       " '/basketball/player/jalen-duren-5703',\n",
       " '/basketball/player/tim-hardaway-3459',\n",
       " '/basketball/player/jaden-ivey-5696',\n",
       " '/basketball/player/bobi-klintman-5976',\n",
       " '/basketball/player/ausar-thompson-5932']"
      ]
     },
     "execution_count": 50,
     "metadata": {},
     "output_type": "execute_result"
    }
   ],
   "source": [
    "[x['href'] for x in lineup_home.find_all('a', href = True)]"
   ]
  },
  {
   "cell_type": "code",
   "execution_count": 1,
   "metadata": {},
   "outputs": [],
   "source": [
    "import smtplib\n",
    "from email.mime.text import MIMEText\n",
    "from email.mime.multipart import MIMEMultipart\n",
    "from pretty_html_table import build_table\n",
    "import numpy as np\n",
    "import pandas as pd"
   ]
  },
  {
   "cell_type": "code",
   "execution_count": 2,
   "metadata": {},
   "outputs": [],
   "source": [
    "df = pd.DataFrame(np.array([[0,1], [2, 3]]), columns = ['col1', 'col2'])"
   ]
  },
  {
   "cell_type": "code",
   "execution_count": 3,
   "metadata": {},
   "outputs": [],
   "source": [
    "# Specify the email contents\n",
    "mail = MIMEMultipart()\n",
    "html = \"\"\"\\\n",
    "<html><head></head><body>{0}</body></html>\n",
    "\"\"\".format(build_table(df, 'grey_light', text_align = 'right', font_family = 'arial', width_dict = ['100','200','200','100','100','100','100'], font_size = 10))\n",
    "mail.attach(MIMEText(html, 'html'))\n"
   ]
  },
  {
   "cell_type": "code",
   "execution_count": 4,
   "metadata": {},
   "outputs": [],
   "source": [
    "\n",
    "# Set my email address and the password key\n",
    "my_mail  = 'martinbog19@gmail.com'\n",
    "# with open('gmail_key.txt') as f:\n",
    "#     password = f.read()\n",
    "\n",
    "# Set the subject of the email\n",
    "mail['Subject'] = 'test_df'\n"
   ]
  },
  {
   "cell_type": "code",
   "execution_count": 7,
   "metadata": {},
   "outputs": [
    {
     "ename": "SMTPAuthenticationError",
     "evalue": "(535, b'5.7.8 Username and Password not accepted. For more information, go to\\n5.7.8  https://support.google.com/mail/?p=BadCredentials 6a1803df08f44-6d40dbe2324sm44517326d6.12 - gsmtp')",
     "output_type": "error",
     "traceback": [
      "\u001b[0;31m---------------------------------------------------------------------------\u001b[0m",
      "\u001b[0;31mSMTPAuthenticationError\u001b[0m                   Traceback (most recent call last)",
      "Cell \u001b[0;32mIn[7], line 4\u001b[0m\n\u001b[1;32m      2\u001b[0m server \u001b[38;5;241m=\u001b[39m smtplib\u001b[38;5;241m.\u001b[39mSMTP(\u001b[38;5;124m'\u001b[39m\u001b[38;5;124msmtp.gmail.com\u001b[39m\u001b[38;5;124m'\u001b[39m, \u001b[38;5;241m587\u001b[39m)\n\u001b[1;32m      3\u001b[0m server\u001b[38;5;241m.\u001b[39mstarttls()\n\u001b[0;32m----> 4\u001b[0m \u001b[43mserver\u001b[49m\u001b[38;5;241;43m.\u001b[39;49m\u001b[43mlogin\u001b[49m\u001b[43m(\u001b[49m\u001b[38;5;124;43m'\u001b[39;49m\u001b[38;5;124;43mmartinbogbog@gmail.com\u001b[39;49m\u001b[38;5;124;43m'\u001b[39;49m\u001b[43m,\u001b[49m\u001b[43m \u001b[49m\u001b[38;5;124;43m\"\u001b[39;49m\u001b[38;5;124;43mKunaguero16\u001b[39;49m\u001b[38;5;124;43m\"\u001b[39;49m\u001b[43m)\u001b[49m\n",
      "File \u001b[0;32m~/anaconda3/envs/nbaenv/lib/python3.10/smtplib.py:750\u001b[0m, in \u001b[0;36mSMTP.login\u001b[0;34m(self, user, password, initial_response_ok)\u001b[0m\n\u001b[1;32m    747\u001b[0m         last_exception \u001b[38;5;241m=\u001b[39m e\n\u001b[1;32m    749\u001b[0m \u001b[38;5;66;03m# We could not login successfully.  Return result of last attempt.\u001b[39;00m\n\u001b[0;32m--> 750\u001b[0m \u001b[38;5;28;01mraise\u001b[39;00m last_exception\n",
      "File \u001b[0;32m~/anaconda3/envs/nbaenv/lib/python3.10/smtplib.py:739\u001b[0m, in \u001b[0;36mSMTP.login\u001b[0;34m(self, user, password, initial_response_ok)\u001b[0m\n\u001b[1;32m    737\u001b[0m method_name \u001b[38;5;241m=\u001b[39m \u001b[38;5;124m'\u001b[39m\u001b[38;5;124mauth_\u001b[39m\u001b[38;5;124m'\u001b[39m \u001b[38;5;241m+\u001b[39m authmethod\u001b[38;5;241m.\u001b[39mlower()\u001b[38;5;241m.\u001b[39mreplace(\u001b[38;5;124m'\u001b[39m\u001b[38;5;124m-\u001b[39m\u001b[38;5;124m'\u001b[39m, \u001b[38;5;124m'\u001b[39m\u001b[38;5;124m_\u001b[39m\u001b[38;5;124m'\u001b[39m)\n\u001b[1;32m    738\u001b[0m \u001b[38;5;28;01mtry\u001b[39;00m:\n\u001b[0;32m--> 739\u001b[0m     (code, resp) \u001b[38;5;241m=\u001b[39m \u001b[38;5;28;43mself\u001b[39;49m\u001b[38;5;241;43m.\u001b[39;49m\u001b[43mauth\u001b[49m\u001b[43m(\u001b[49m\n\u001b[1;32m    740\u001b[0m \u001b[43m        \u001b[49m\u001b[43mauthmethod\u001b[49m\u001b[43m,\u001b[49m\u001b[43m \u001b[49m\u001b[38;5;28;43mgetattr\u001b[39;49m\u001b[43m(\u001b[49m\u001b[38;5;28;43mself\u001b[39;49m\u001b[43m,\u001b[49m\u001b[43m \u001b[49m\u001b[43mmethod_name\u001b[49m\u001b[43m)\u001b[49m\u001b[43m,\u001b[49m\n\u001b[1;32m    741\u001b[0m \u001b[43m        \u001b[49m\u001b[43minitial_response_ok\u001b[49m\u001b[38;5;241;43m=\u001b[39;49m\u001b[43minitial_response_ok\u001b[49m\u001b[43m)\u001b[49m\n\u001b[1;32m    742\u001b[0m     \u001b[38;5;66;03m# 235 == 'Authentication successful'\u001b[39;00m\n\u001b[1;32m    743\u001b[0m     \u001b[38;5;66;03m# 503 == 'Error: already authenticated'\u001b[39;00m\n\u001b[1;32m    744\u001b[0m     \u001b[38;5;28;01mif\u001b[39;00m code \u001b[38;5;129;01min\u001b[39;00m (\u001b[38;5;241m235\u001b[39m, \u001b[38;5;241m503\u001b[39m):\n",
      "File \u001b[0;32m~/anaconda3/envs/nbaenv/lib/python3.10/smtplib.py:662\u001b[0m, in \u001b[0;36mSMTP.auth\u001b[0;34m(self, mechanism, authobject, initial_response_ok)\u001b[0m\n\u001b[1;32m    660\u001b[0m \u001b[38;5;28;01mif\u001b[39;00m code \u001b[38;5;129;01min\u001b[39;00m (\u001b[38;5;241m235\u001b[39m, \u001b[38;5;241m503\u001b[39m):\n\u001b[1;32m    661\u001b[0m     \u001b[38;5;28;01mreturn\u001b[39;00m (code, resp)\n\u001b[0;32m--> 662\u001b[0m \u001b[38;5;28;01mraise\u001b[39;00m SMTPAuthenticationError(code, resp)\n",
      "\u001b[0;31mSMTPAuthenticationError\u001b[0m: (535, b'5.7.8 Username and Password not accepted. For more information, go to\\n5.7.8  https://support.google.com/mail/?p=BadCredentials 6a1803df08f44-6d40dbe2324sm44517326d6.12 - gsmtp')"
     ]
    }
   ],
   "source": [
    "\n",
    "# Connect to the Gmail SMTP server & log in\n",
    "server = smtplib.SMTP('smtp.gmail.com', 587)\n",
    "server.starttls()\n",
    "server.login('martinbogbog@gmail.com', \"Kunaguero16\")"
   ]
  },
  {
   "cell_type": "code",
   "execution_count": null,
   "metadata": {},
   "outputs": [],
   "source": [
    "\n",
    "# Send the email (to myself)\n",
    "server.sendmail(my_mail, my_mail, mail.as_string())\n",
    "q = server.quit()"
   ]
  },
  {
   "cell_type": "code",
   "execution_count": 8,
   "metadata": {},
   "outputs": [
    {
     "name": "stdout",
     "output_type": "stream",
     "text": [
      "Email sent successfully!\n"
     ]
    }
   ],
   "source": []
  },
  {
   "cell_type": "code",
   "execution_count": 9,
   "metadata": {},
   "outputs": [],
   "source": [
    "import os\n",
    "\n",
    "def is_running_in_github_actions():\n",
    "    return os.getenv(\"GITHUB_ACTIONS\") == \"true\""
   ]
  },
  {
   "cell_type": "code",
   "execution_count": 12,
   "metadata": {},
   "outputs": [],
   "source": [
    "os.getenv(\"k\")"
   ]
  },
  {
   "cell_type": "code",
   "execution_count": null,
   "metadata": {},
   "outputs": [],
   "source": []
  }
 ],
 "metadata": {
  "kernelspec": {
   "display_name": "penv",
   "language": "python",
   "name": "python3"
  },
  "language_info": {
   "codemirror_mode": {
    "name": "ipython",
    "version": 3
   },
   "file_extension": ".py",
   "mimetype": "text/x-python",
   "name": "python",
   "nbconvert_exporter": "python",
   "pygments_lexer": "ipython3",
   "version": "3.9.20"
  }
 },
 "nbformat": 4,
 "nbformat_minor": 2
}
